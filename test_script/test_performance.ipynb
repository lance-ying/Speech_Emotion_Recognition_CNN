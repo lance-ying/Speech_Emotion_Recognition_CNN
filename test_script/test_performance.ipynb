{
 "cells": [
  {
   "cell_type": "code",
   "execution_count": 1,
   "metadata": {},
   "outputs": [
    {
     "ename": "ImportError",
     "evalue": "No module named torch",
     "output_type": "error",
     "traceback": [
      "\u001b[0;31m---------------------------------------------------------------------------\u001b[0m",
      "\u001b[0;31mImportError\u001b[0m                               Traceback (most recent call last)",
      "\u001b[0;32m<ipython-input-1-d4012279c028>\u001b[0m in \u001b[0;36m<module>\u001b[0;34m()\u001b[0m\n\u001b[1;32m      1\u001b[0m \u001b[0;32mimport\u001b[0m \u001b[0mpickle\u001b[0m\u001b[0;34m\u001b[0m\u001b[0m\n\u001b[0;32m----> 2\u001b[0;31m \u001b[0;32mimport\u001b[0m \u001b[0mtorch\u001b[0m\u001b[0;34m\u001b[0m\u001b[0m\n\u001b[0m\u001b[1;32m      3\u001b[0m \u001b[0;32mimport\u001b[0m \u001b[0mtorch\u001b[0m\u001b[0;34m.\u001b[0m\u001b[0mnn\u001b[0m \u001b[0;32mas\u001b[0m \u001b[0mnn\u001b[0m\u001b[0;34m\u001b[0m\u001b[0m\n\u001b[1;32m      4\u001b[0m \u001b[0;32mimport\u001b[0m \u001b[0mnumpy\u001b[0m \u001b[0;32mas\u001b[0m \u001b[0mnp\u001b[0m\u001b[0;34m\u001b[0m\u001b[0m\n\u001b[1;32m      5\u001b[0m \u001b[0;32mimport\u001b[0m \u001b[0mpandas\u001b[0m \u001b[0;32mas\u001b[0m \u001b[0mpd\u001b[0m\u001b[0;34m\u001b[0m\u001b[0m\n",
      "\u001b[0;31mImportError\u001b[0m: No module named torch"
     ]
    }
   ],
   "source": [
    "import pickle\n",
    "import torch\n",
    "import torch.nn as nn\n",
    "import numpy as np\n",
    "import pandas as pd\n",
    "import sklearn.metrics as metrics\n",
    "from model import * \n",
    "import matplotlib.pyplot as plt\n",
    "\n",
    "def main():\n",
    "    with open(\"/home/lancelcy/PRIORI/X_R21.pk\",\"rb\") as f:\n",
    "    \tX_R21=pickle.load(f)\n",
    "    with open(\"/home/lancelcy/PRIORI/Y_R21.pk\",\"rb\") as f:\n",
    "    \tY_R21=pickle.load(f)\n",
    "\n",
    "    df=pd.read_csv(\"/home/lancelcy/my_env/split_data.csv\")\n",
    "    # df_R21=pd.read_csv(\"/home/lancelcy/PRIORI/R21.csv\")\n",
    "\n",
    "    # s1=np.array(df_R21[df_R21[\"sub_id\"].apply(lambda x:int(x) == 1830001, 2541001,5885001))].index)\n",
    "    # no_control=np.array(df_R21[df_R21[\"sub_id\"].apply(lambda x:int(x) not in (1830001, 2541001,5885001))].index)\n",
    "    X=np.split(X_R21,[816,933,1123,1169,2477,2843,3838,3957])\n",
    "    Y=np.split(Y_R21,[816,933,1123,1169,2477,2843,3838,3957])\n",
    "\n",
    "    \n",
    "    dic=torch.load(\"/home/lancelcy/PRIORI/CNN_models/1.checkpoint\",map_location=\"cpu\")\n",
    "    model = Net()\n",
    "    model.load_state_dict(dic)\n",
    "    # with torch.no_grad():\n",
    "    #     Y_out=model(torch.from_numpy(X_test)).numpy()\n",
    "\n",
    "\n",
    "    #     model_test=model.cpu()\n",
    "    #     print(model)\n",
    "    #     print(X_test.shape)\n",
    "\n",
    "    #     model_test=model.cpu()\n",
    "    # with torch.no_grad():\n",
    "        # Y_out=model(torch.from_numpy(X_test)).numpy()\n",
    "        # Y_pred=np.zeros(Y_test.shape[0])\n",
    "        # for i, pred in enumerate(Y_out):\n",
    "            # Y_pred[i]=np.argmax(pred)\n",
    "        # test1_accuracy.append(metrics.accuracy_score(Y_test,Y_pred))\n",
    "        # test1_UAR.append(metrics.recall_score(Y_test,Y_pred,average=\"macro\"))\n",
    "        # print(\"V1 Test\",metrics.recall_score(Y_test,Y_pred,average=\"macro\"))\n",
    "    accuracy=[]\n",
    "    UAR=[]\n",
    "    for x,y in zip(X,Y):\n",
    "        with torch.no_grad():\n",
    "            Y_out=model(torch.from_numpy(x)).numpy()\n",
    "            # print(Y_out.shape)\n",
    "        Y_pred=np.zeros(y.shape[0])\n",
    "        for i, pred in enumerate(Y_out):\n",
    "            Y_pred[i]=np.argmax(pred)\n",
    "        # test2_accuracy.append(metrics.accuracy_score(Y_R21,Y_pred))\n",
    "        # test2_UAR.append(metrics.recall_score(Y_R21,Y_pred,average=\"macro\"))\n",
    "        # print(\"R21 UAR\",metrics.recall_score(y,Y_pred,average=\"macro\"))\n",
    "        accuracy.append(metrics.accuracy_score(y,Y_pred))\n",
    "        UAR.append(metrics.recall_score(y,Y_pred,average=\"macro\"))\n",
    "    print(accuracy)\n",
    "    print(UAR)\n",
    "    plt.plot(accuracy)\n",
    "    plt.plot(UAR)\n",
    "    \n",
    "    # with torch.no_grad():\n",
    "        # Y_control_out=model(torch.from_numpy(control_X)).numpy()\n",
    "            # print(Y_out.shape)\n",
    "        # Y_pred=np.zeros(Y_control_out.shape[0])\n",
    "        # for i, pred in enumerate(Y_control_out):\n",
    "            # Y_pred[i]=np.argmax(pred)\n",
    "        # control_accuracy.append(metrics.accuracy_score(control_Y,Y_pred))\n",
    "        # control_UAR.append(metrics.recall_score(control_Y,Y_pred,average=\"macro\"))\n",
    "        # print(\"R21 control UAR\",metrics.recall_score(control_Y,Y_pred,average=\"macro\"))\n",
    "\n",
    "    # np.save(\"/home/lancelcy/PRIORI/test_0402/test1_accuracy.npy\",test1_accuracy)\n",
    "    # np.save(\"/home/lancelcy/PRIORI/test_0402/test1_UAR.npy\",test1_UAR)\n",
    "    # np.save(\"/home/lancelcy/PRIORI/test_0402/test2_accuracy.npy\",test2_accuracy)\n",
    "    # np.save(\"/home/lancelcy/PRIORI/test_0402/test2_UAR.npy\",test2_UAR)\n",
    "    # np.save(\"/home/lancelcy/PRIORI/test_0402/control_accuracy.npy\",control_accuracy)\n",
    "    # np.save(\"/home/lancelcy/PRIORI/test_0402/control_UAR.npy\",control_UAR)\n",
    "\n",
    "\n",
    "if __name__ == \"__main__\": \n",
    "    main()\n"
   ]
  },
  {
   "cell_type": "code",
   "execution_count": null,
   "metadata": {},
   "outputs": [],
   "source": [
    "import torch"
   ]
  },
  {
   "cell_type": "code",
   "execution_count": 3,
   "metadata": {},
   "outputs": [],
   "source": [
    "import sys\n",
    "# sys.path.append(\"/home/lancelcy/.local/lib/python3.6/site-packages\")"
   ]
  },
  {
   "cell_type": "code",
   "execution_count": 4,
   "metadata": {},
   "outputs": [
    {
     "name": "stdout",
     "output_type": "stream",
     "text": [
      "['', '/home/lancelcy/my_env/lib/python2.7', '/home/lancelcy/my_env/lib/python2.7/plat-x86_64-linux-gnu', '/home/lancelcy/my_env/lib/python2.7/lib-tk', '/home/lancelcy/my_env/lib/python2.7/lib-old', '/home/lancelcy/my_env/lib/python2.7/lib-dynload', '/usr/lib/python2.7', '/usr/lib/python2.7/plat-x86_64-linux-gnu', '/usr/lib/python2.7/lib-tk', '/home/lancelcy/my_env/local/lib/python2.7/site-packages', '/home/lancelcy/my_env/lib/python2.7/site-packages', '/home/lancelcy/my_env/local/lib/python2.7/site-packages/IPython/extensions', '/home/lancelcy/.ipython']\n"
     ]
    }
   ],
   "source": [
    "print(sys.path)"
   ]
  },
  {
   "cell_type": "code",
   "execution_count": null,
   "metadata": {},
   "outputs": [],
   "source": []
  }
 ],
 "metadata": {
  "kernelspec": {
   "display_name": "Python 3",
   "language": "python",
   "name": "python3"
  },
  "language_info": {
   "codemirror_mode": {
    "name": "ipython",
    "version": 3
   },
   "file_extension": ".py",
   "mimetype": "text/x-python",
   "name": "python",
   "nbconvert_exporter": "python",
   "pygments_lexer": "ipython3",
   "version": "3.6.9"
  }
 },
 "nbformat": 4,
 "nbformat_minor": 4
}
