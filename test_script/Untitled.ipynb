{
 "cells": [
  {
   "cell_type": "code",
   "execution_count": 1,
   "id": "b83b1726-ba78-4695-bda2-9b798c17bde9",
   "metadata": {},
   "outputs": [],
   "source": [
    "import numpy as np\n",
    "import pandas as pd\n",
    "from sklearn import metrics"
   ]
  },
  {
   "cell_type": "markdown",
   "id": "fb0b27e4-94cb-49ff-a575-39540772a08e",
   "metadata": {},
   "source": [
    "$R21 Experiments$\n"
   ]
  },
  {
   "cell_type": "code",
   "execution_count": 58,
   "id": "3cf09f7d-4654-41fb-b9cc-069644c2fe2f",
   "metadata": {},
   "outputs": [
    {
     "data": {
      "text/plain": [
       "0.3825802169743872"
      ]
     },
     "execution_count": 58,
     "metadata": {},
     "output_type": "execute_result"
    }
   ],
   "source": [
    "#experiment 1\n",
    "pred=np.load(\"/home/lancelcy/PRIORI/test_result/baseline/trial1/UAR_v1.npy\")\n",
    "pred.mean()"
   ]
  },
  {
   "cell_type": "code",
   "execution_count": 38,
   "id": "f363d3ce-83d9-48e1-98fc-1d4b7e7aab94",
   "metadata": {},
   "outputs": [
    {
     "data": {
      "text/plain": [
       "0.37505205991343843"
      ]
     },
     "execution_count": 38,
     "metadata": {},
     "output_type": "execute_result"
    }
   ],
   "source": [
    "#experiment 2\n",
    "df_R21=pd.read_csv(\"/home/lancelcy/PRIORI/metadata/R21_v2.csv\")\n",
    "label=df_R21[df_R21[\"sub_id\"].apply(lambda x:x==2280001 or x==5819001 or x== 5865001 or x==5998001)][\"valence\"]\n",
    "\n",
    "\n",
    "pred=[]\n",
    "for p in pd.read_csv(\"~/PRIORI/test_result/exp2/R21.csv\")[\"emotion\"]:\n",
    "    pred.append(np.argmax([float(i) for i in p.split(\";\")]))\n",
    "    \n",
    "metrics.recall_score(label,pred,average=\"macro\")"
   ]
  },
  {
   "cell_type": "code",
   "execution_count": 49,
   "id": "61544cb7-2db7-42f8-9ff3-39dd20c657cd",
   "metadata": {},
   "outputs": [
    {
     "data": {
      "text/plain": [
       "0.35383110722528993"
      ]
     },
     "execution_count": 49,
     "metadata": {},
     "output_type": "execute_result"
    }
   ],
   "source": [
    "#experiment 3\n",
    "df_R21=pd.read_csv(\"/home/lancelcy/PRIORI/metadata/R21_v2.csv\")\n",
    "label=df_R21[df_R21[\"sub_id\"].apply(lambda x:x==2280001 or x==5819001 or x== 5865001 or x==5998001)][\"valence\"]\n",
    "\n",
    "\n",
    "pred=[]\n",
    "for p in pd.read_csv(\"~/PRIORI/test_result/exp3/R21.csv\")[\"emotion\"]:\n",
    "    pred.append(np.argmax([float(i) for i in p.split(\";\")]))\n",
    "    \n",
    "metrics.recall_score(label,pred,average=\"macro\")"
   ]
  },
  {
   "cell_type": "code",
   "execution_count": 50,
   "id": "86071dae-0bc6-4afb-b27d-224134495e28",
   "metadata": {},
   "outputs": [
    {
     "data": {
      "text/plain": [
       "0.35435520410750626"
      ]
     },
     "execution_count": 50,
     "metadata": {},
     "output_type": "execute_result"
    }
   ],
   "source": [
    "#experiment 4\n",
    "df_R21=pd.read_csv(\"/home/lancelcy/PRIORI/metadata/R21_v2.csv\")\n",
    "label=df_R21[df_R21[\"sub_id\"].apply(lambda x:x==2280001 or x==5819001 or x== 5865001 or x==5998001)][\"valence\"]\n",
    "\n",
    "\n",
    "pred=[]\n",
    "for p in pd.read_csv(\"~/PRIORI/test_result/exp4/R21.csv\")[\"emotion\"]:\n",
    "    pred.append(np.argmax([float(i) for i in p.split(\";\")]))\n",
    "    \n",
    "metrics.recall_score(label,pred,average=\"macro\")"
   ]
  },
  {
   "cell_type": "markdown",
   "id": "65fc21d9-5db3-454e-8980-e1773f112069",
   "metadata": {},
   "source": [
    "$V1\\space Test$"
   ]
  },
  {
   "cell_type": "code",
   "execution_count": 59,
   "id": "ad5d879a-06fe-4ed9-95a0-614c69bbe41d",
   "metadata": {},
   "outputs": [
    {
     "data": {
      "text/plain": [
       "0.43520623129325925"
      ]
     },
     "execution_count": 59,
     "metadata": {},
     "output_type": "execute_result"
    }
   ],
   "source": [
    "#experiment 1\n",
    "pred=np.load(\"/home/lancelcy/PRIORI/test_result/baseline/trial1/UAR_V1.npy\")\n",
    "pred.mean()"
   ]
  },
  {
   "cell_type": "code",
   "execution_count": 60,
   "id": "c124f8c1-550d-4fd8-be4b-781773dd25e3",
   "metadata": {},
   "outputs": [
    {
     "data": {
      "text/plain": [
       "0.48562630177723576"
      ]
     },
     "execution_count": 60,
     "metadata": {},
     "output_type": "execute_result"
    }
   ],
   "source": [
    "#experiment 2\n",
    "df_V1=pd.read_csv(\"/home/lancelcy/PRIORI/metadata/V1_v2.csv\")\n",
    "label=np.array(df_V1[df_V1[\"trial1\"]==2][\"valence\"])\n",
    "\n",
    "\n",
    "pred=[]\n",
    "for p in pd.read_csv(\"~/PRIORI/test_result/exp2/V1.csv\")[\"emotion\"]:\n",
    "    pred.append(np.argmax([float(i) for i in p.split(\";\")]))\n",
    "    \n",
    "metrics.recall_score(label,pred,average=\"macro\")"
   ]
  },
  {
   "cell_type": "code",
   "execution_count": 61,
   "id": "42c3c1ad-6a39-40d5-917e-9deab30a1c53",
   "metadata": {},
   "outputs": [
    {
     "data": {
      "text/plain": [
       "0.4682627609867058"
      ]
     },
     "execution_count": 61,
     "metadata": {},
     "output_type": "execute_result"
    }
   ],
   "source": [
    "#experiment 3\n",
    "df_V1=pd.read_csv(\"/home/lancelcy/PRIORI/metadata/V1_v2.csv\")\n",
    "label=np.array(df_V1[df_V1[\"trial1\"]==2][\"valence\"])\n",
    "\n",
    "\n",
    "pred=[]\n",
    "for p in pd.read_csv(\"~/PRIORI/test_result/exp3/V1.csv\")[\"emotion\"]:\n",
    "    pred.append(np.argmax([float(i) for i in p.split(\";\")]))\n",
    "    \n",
    "metrics.recall_score(label,pred,average=\"macro\")\n"
   ]
  },
  {
   "cell_type": "code",
   "execution_count": 62,
   "id": "c829c98d-f8c1-4577-a42e-64e06d030e95",
   "metadata": {},
   "outputs": [
    {
     "data": {
      "text/plain": [
       "0.33594040159854743"
      ]
     },
     "execution_count": 62,
     "metadata": {},
     "output_type": "execute_result"
    }
   ],
   "source": [
    "#experiment 4\n",
    "df_V1=pd.read_csv(\"/home/lancelcy/PRIORI/metadata/V1_v2.csv\")\n",
    "label=np.array(df_V1[df_V1[\"trial1\"]==2][\"valence\"])\n",
    "\n",
    "\n",
    "pred=[]\n",
    "for p in pd.read_csv(\"~/PRIORI/test_result/exp4/V1.csv\")[\"emotion\"]:\n",
    "    pred.append(np.argmax([float(i) for i in p.split(\";\")]))\n",
    "    \n",
    "metrics.recall_score(label,pred,average=\"macro\")"
   ]
  },
  {
   "cell_type": "code",
   "execution_count": null,
   "id": "50ce2f28-99d6-425c-9e16-755f3c565506",
   "metadata": {},
   "outputs": [],
   "source": []
  },
  {
   "cell_type": "markdown",
   "id": "c6726bd3-dd1b-4012-8956-c3dd20b8ec95",
   "metadata": {},
   "source": [
    "Random Stuff"
   ]
  },
  {
   "cell_type": "code",
   "execution_count": 19,
   "id": "08ce945a-b106-4ad1-801a-abb46e4ccfa0",
   "metadata": {},
   "outputs": [],
   "source": [
    "df_V1=pd.read_csv(\"/home/lancelcy/PRIORI/metadata/V1_v2.csv\")\n",
    "for i in df_V1[df_V1[\"trial1\"]==2][\"new_path\"]:\n",
    "    np.save(i,np.load(i).T)"
   ]
  },
  {
   "cell_type": "code",
   "execution_count": 36,
   "id": "d4de46dd-7da4-4667-b9ad-f5a4d03bdc6e",
   "metadata": {},
   "outputs": [
    {
     "data": {
      "text/plain": [
       "0.35383110722528993"
      ]
     },
     "execution_count": 36,
     "metadata": {},
     "output_type": "execute_result"
    }
   ],
   "source": []
  },
  {
   "cell_type": "code",
   "execution_count": 39,
   "id": "4b57634d-ec63-4f11-ac4f-f0e1ddeae6a6",
   "metadata": {},
   "outputs": [
    {
     "data": {
      "text/plain": [
       "0.35435520410750626"
      ]
     },
     "execution_count": 39,
     "metadata": {},
     "output_type": "execute_result"
    }
   ],
   "source": [
    "df_R21=pd.read_csv(\"/home/lancelcy/PRIORI/metadata/R21_v2.csv\")\n",
    "label=df_R21[df_R21[\"sub_id\"].apply(lambda x:x==2280001 or x==5819001 or x== 5865001 or x==5998001)][\"valence\"]\n",
    "\n",
    "\n",
    "pred=[]\n",
    "for p in pd.read_csv(\"~/PRIORI/test_result/exp4/R21.csv\")[\"emotion\"]:\n",
    "    pred.append(np.argmax([float(i) for i in p.split(\";\")]))\n",
    "    \n",
    "metrics.recall_score(label,pred,average=\"macro\")"
   ]
  },
  {
   "cell_type": "code",
   "execution_count": 31,
   "id": "b0e54389-c5bb-4e8a-adca-71dea7b8b5b0",
   "metadata": {},
   "outputs": [
    {
     "data": {
      "text/plain": [
       "(2100,)"
      ]
     },
     "execution_count": 31,
     "metadata": {},
     "output_type": "execute_result"
    }
   ],
   "source": [
    "np.array(pred).shape"
   ]
  },
  {
   "cell_type": "code",
   "execution_count": null,
   "id": "3407cae0-75c3-43d4-b095-c0013192074b",
   "metadata": {},
   "outputs": [],
   "source": []
  }
 ],
 "metadata": {
  "kernelspec": {
   "display_name": "Python 3",
   "language": "python",
   "name": "python3"
  },
  "language_info": {
   "codemirror_mode": {
    "name": "ipython",
    "version": 3
   },
   "file_extension": ".py",
   "mimetype": "text/x-python",
   "name": "python",
   "nbconvert_exporter": "python",
   "pygments_lexer": "ipython3",
   "version": "3.6.9"
  }
 },
 "nbformat": 4,
 "nbformat_minor": 5
}
