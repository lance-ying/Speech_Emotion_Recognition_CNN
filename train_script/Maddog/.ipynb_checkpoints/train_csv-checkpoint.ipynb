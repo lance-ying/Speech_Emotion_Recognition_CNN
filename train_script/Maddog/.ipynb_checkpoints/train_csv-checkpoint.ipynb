{
 "cells": [
  {
   "cell_type": "code",
   "execution_count": 2,
   "id": "dac665c7-0cb8-47c9-bc1a-953aaa92ea64",
   "metadata": {},
   "outputs": [],
   "source": [
    "import numpy as np\n",
    "import pandas as pd"
   ]
  },
  {
   "cell_type": "code",
   "execution_count": 168,
   "id": "786138d2-3e9e-4370-82ab-6b9aa99a0172",
   "metadata": {},
   "outputs": [],
   "source": [
    "df_V1=pd.read_csv(\"/home/lancelcy/PRIORI/metadata/split_data.csv\")\n",
    "df_R21=pd.read_csv(\"/home/lancelcy/PRIORI/metadata/R21.csv\")"
   ]
  },
  {
   "cell_type": "code",
   "execution_count": 167,
   "id": "6cee57dd-104e-4d15-a1ce-fd8a20012755",
   "metadata": {},
   "outputs": [
    {
     "data": {
      "text/html": [
       "<div>\n",
       "<style scoped>\n",
       "    .dataframe tbody tr th:only-of-type {\n",
       "        vertical-align: middle;\n",
       "    }\n",
       "\n",
       "    .dataframe tbody tr th {\n",
       "        vertical-align: top;\n",
       "    }\n",
       "\n",
       "    .dataframe thead th {\n",
       "        text-align: right;\n",
       "    }\n",
       "</style>\n",
       "<table border=\"1\" class=\"dataframe\">\n",
       "  <thead>\n",
       "    <tr style=\"text-align: right;\">\n",
       "      <th></th>\n",
       "      <th>Unnamed: 0</th>\n",
       "      <th>Unnamed: 0.1</th>\n",
       "      <th>segment_id</th>\n",
       "      <th>subject_id</th>\n",
       "      <th>segment_length</th>\n",
       "      <th>activation_arr</th>\n",
       "      <th>valence_arr</th>\n",
       "      <th>transcription</th>\n",
       "      <th>valence</th>\n",
       "      <th>arousal</th>\n",
       "      <th>path</th>\n",
       "      <th>trial1</th>\n",
       "      <th>trial2</th>\n",
       "      <th>trial3</th>\n",
       "      <th>trial4</th>\n",
       "      <th>trial5</th>\n",
       "      <th>new_path</th>\n",
       "    </tr>\n",
       "  </thead>\n",
       "  <tbody>\n",
       "    <tr>\n",
       "      <th>0</th>\n",
       "      <td>0</td>\n",
       "      <td>0</td>\n",
       "      <td>49157</td>\n",
       "      <td>17</td>\n",
       "      <td>4.0265</td>\n",
       "      <td>{4|2|3|4|4|4}</td>\n",
       "      <td>{3|3|4|4|3|3}</td>\n",
       "      <td>yeah, with with a lot of anxiety, and stress</td>\n",
       "      <td>0</td>\n",
       "      <td>0</td>\n",
       "      <td>/z/lancelcy/PRIORI_Emotion/mfbs/49157.npy</td>\n",
       "      <td>0</td>\n",
       "      <td>0</td>\n",
       "      <td>0</td>\n",
       "      <td>1</td>\n",
       "      <td>0</td>\n",
       "      <td>/z/lancelcy/PRIORI_Emotion/pad_mfbs/49157.npy</td>\n",
       "    </tr>\n",
       "    <tr>\n",
       "      <th>1</th>\n",
       "      <td>1</td>\n",
       "      <td>1</td>\n",
       "      <td>49158</td>\n",
       "      <td>17</td>\n",
       "      <td>6.2105</td>\n",
       "      <td>{4|4|4|4|5}</td>\n",
       "      <td>{4|5|4|4|4}</td>\n",
       "      <td>I think it's mind kinda racing adding to, then...</td>\n",
       "      <td>0</td>\n",
       "      <td>0</td>\n",
       "      <td>/z/lancelcy/PRIORI_Emotion/mfbs/49158.npy</td>\n",
       "      <td>0</td>\n",
       "      <td>0</td>\n",
       "      <td>0</td>\n",
       "      <td>1</td>\n",
       "      <td>0</td>\n",
       "      <td>/z/lancelcy/PRIORI_Emotion/pad_mfbs/49158.npy</td>\n",
       "    </tr>\n",
       "    <tr>\n",
       "      <th>2</th>\n",
       "      <td>2</td>\n",
       "      <td>2</td>\n",
       "      <td>49161</td>\n",
       "      <td>17</td>\n",
       "      <td>4.3150</td>\n",
       "      <td>{5|3|5|5|4}</td>\n",
       "      <td>{4|5|5|5|5}</td>\n",
       "      <td>&lt;filler&gt; it's been average</td>\n",
       "      <td>1</td>\n",
       "      <td>1</td>\n",
       "      <td>/z/lancelcy/PRIORI_Emotion/mfbs/49161.npy</td>\n",
       "      <td>0</td>\n",
       "      <td>0</td>\n",
       "      <td>0</td>\n",
       "      <td>1</td>\n",
       "      <td>0</td>\n",
       "      <td>/z/lancelcy/PRIORI_Emotion/pad_mfbs/49161.npy</td>\n",
       "    </tr>\n",
       "    <tr>\n",
       "      <th>3</th>\n",
       "      <td>3</td>\n",
       "      <td>3</td>\n",
       "      <td>49164</td>\n",
       "      <td>17</td>\n",
       "      <td>4.3051</td>\n",
       "      <td>{5|4|4|3|5}</td>\n",
       "      <td>{4|4|5|4|4}</td>\n",
       "      <td>&lt;filler&gt; I think it's average, yeah, yeah</td>\n",
       "      <td>0</td>\n",
       "      <td>0</td>\n",
       "      <td>/z/lancelcy/PRIORI_Emotion/mfbs/49164.npy</td>\n",
       "      <td>0</td>\n",
       "      <td>0</td>\n",
       "      <td>0</td>\n",
       "      <td>1</td>\n",
       "      <td>0</td>\n",
       "      <td>/z/lancelcy/PRIORI_Emotion/pad_mfbs/49164.npy</td>\n",
       "    </tr>\n",
       "    <tr>\n",
       "      <th>4</th>\n",
       "      <td>4</td>\n",
       "      <td>4</td>\n",
       "      <td>49167</td>\n",
       "      <td>17</td>\n",
       "      <td>4.1249</td>\n",
       "      <td>{2|4|5|3|5}</td>\n",
       "      <td>{3|3|5|4|4}</td>\n",
       "      <td>no I don't, yea I can't really pinpoint any pa...</td>\n",
       "      <td>0</td>\n",
       "      <td>0</td>\n",
       "      <td>/z/lancelcy/PRIORI_Emotion/mfbs/49167.npy</td>\n",
       "      <td>0</td>\n",
       "      <td>0</td>\n",
       "      <td>0</td>\n",
       "      <td>1</td>\n",
       "      <td>0</td>\n",
       "      <td>/z/lancelcy/PRIORI_Emotion/pad_mfbs/49167.npy</td>\n",
       "    </tr>\n",
       "    <tr>\n",
       "      <th>...</th>\n",
       "      <td>...</td>\n",
       "      <td>...</td>\n",
       "      <td>...</td>\n",
       "      <td>...</td>\n",
       "      <td>...</td>\n",
       "      <td>...</td>\n",
       "      <td>...</td>\n",
       "      <td>...</td>\n",
       "      <td>...</td>\n",
       "      <td>...</td>\n",
       "      <td>...</td>\n",
       "      <td>...</td>\n",
       "      <td>...</td>\n",
       "      <td>...</td>\n",
       "      <td>...</td>\n",
       "      <td>...</td>\n",
       "      <td>...</td>\n",
       "    </tr>\n",
       "    <tr>\n",
       "      <th>13817</th>\n",
       "      <td>13817</td>\n",
       "      <td>18382</td>\n",
       "      <td>649179</td>\n",
       "      <td>6</td>\n",
       "      <td>3.1509</td>\n",
       "      <td>{6|3|4|5|5}</td>\n",
       "      <td>{2|5|5|4|5}</td>\n",
       "      <td>That's like and it's the same price as all the...</td>\n",
       "      <td>1</td>\n",
       "      <td>-1</td>\n",
       "      <td>/z/lancelcy/PRIORI_Emotion/mfbs/649179.npy</td>\n",
       "      <td>0</td>\n",
       "      <td>1</td>\n",
       "      <td>0</td>\n",
       "      <td>2</td>\n",
       "      <td>0</td>\n",
       "      <td>/z/lancelcy/PRIORI_Emotion/pad_mfbs/649179.npy</td>\n",
       "    </tr>\n",
       "    <tr>\n",
       "      <th>13818</th>\n",
       "      <td>13818</td>\n",
       "      <td>18383</td>\n",
       "      <td>649239</td>\n",
       "      <td>6</td>\n",
       "      <td>4.6185</td>\n",
       "      <td>{5|6}</td>\n",
       "      <td>{5|5}</td>\n",
       "      <td>Oh yep, yep we finally got it in. Yea.</td>\n",
       "      <td>1</td>\n",
       "      <td>-1</td>\n",
       "      <td>/z/lancelcy/PRIORI_Emotion/mfbs/649239.npy</td>\n",
       "      <td>0</td>\n",
       "      <td>1</td>\n",
       "      <td>0</td>\n",
       "      <td>2</td>\n",
       "      <td>0</td>\n",
       "      <td>/z/lancelcy/PRIORI_Emotion/pad_mfbs/649239.npy</td>\n",
       "    </tr>\n",
       "    <tr>\n",
       "      <th>13819</th>\n",
       "      <td>13819</td>\n",
       "      <td>18384</td>\n",
       "      <td>649255</td>\n",
       "      <td>6</td>\n",
       "      <td>15.2501</td>\n",
       "      <td>{4|3|4|6|5}</td>\n",
       "      <td>{6|5|5|7|6}</td>\n",
       "      <td>Or there's one that leaves at eight ten AM &lt;la...</td>\n",
       "      <td>2</td>\n",
       "      <td>0</td>\n",
       "      <td>/z/lancelcy/PRIORI_Emotion/mfbs/649255.npy</td>\n",
       "      <td>0</td>\n",
       "      <td>1</td>\n",
       "      <td>0</td>\n",
       "      <td>2</td>\n",
       "      <td>0</td>\n",
       "      <td>/z/lancelcy/PRIORI_Emotion/pad_mfbs/649255.npy</td>\n",
       "    </tr>\n",
       "    <tr>\n",
       "      <th>13820</th>\n",
       "      <td>13820</td>\n",
       "      <td>18385</td>\n",
       "      <td>649318</td>\n",
       "      <td>6</td>\n",
       "      <td>12.2540</td>\n",
       "      <td>{4|3|3|5|4}</td>\n",
       "      <td>{6|5|5|6|5}</td>\n",
       "      <td>I'm looking at differnt fares. because out of ...</td>\n",
       "      <td>1</td>\n",
       "      <td>0</td>\n",
       "      <td>/z/lancelcy/PRIORI_Emotion/mfbs/649318.npy</td>\n",
       "      <td>0</td>\n",
       "      <td>1</td>\n",
       "      <td>0</td>\n",
       "      <td>2</td>\n",
       "      <td>0</td>\n",
       "      <td>/z/lancelcy/PRIORI_Emotion/pad_mfbs/649318.npy</td>\n",
       "    </tr>\n",
       "    <tr>\n",
       "      <th>13821</th>\n",
       "      <td>13821</td>\n",
       "      <td>18386</td>\n",
       "      <td>649333</td>\n",
       "      <td>6</td>\n",
       "      <td>25.1521</td>\n",
       "      <td>{8|3|6|8|6}</td>\n",
       "      <td>{5|5|5|6|5}</td>\n",
       "      <td>Yea, OK I will talk with you later like i said...</td>\n",
       "      <td>1</td>\n",
       "      <td>2</td>\n",
       "      <td>/z/lancelcy/PRIORI_Emotion/mfbs/649333.npy</td>\n",
       "      <td>0</td>\n",
       "      <td>1</td>\n",
       "      <td>0</td>\n",
       "      <td>2</td>\n",
       "      <td>0</td>\n",
       "      <td>/z/lancelcy/PRIORI_Emotion/pad_mfbs/649333.npy</td>\n",
       "    </tr>\n",
       "  </tbody>\n",
       "</table>\n",
       "<p>13822 rows × 17 columns</p>\n",
       "</div>"
      ],
      "text/plain": [
       "       Unnamed: 0  Unnamed: 0.1  segment_id  subject_id  segment_length  \\\n",
       "0               0             0       49157          17          4.0265   \n",
       "1               1             1       49158          17          6.2105   \n",
       "2               2             2       49161          17          4.3150   \n",
       "3               3             3       49164          17          4.3051   \n",
       "4               4             4       49167          17          4.1249   \n",
       "...           ...           ...         ...         ...             ...   \n",
       "13817       13817         18382      649179           6          3.1509   \n",
       "13818       13818         18383      649239           6          4.6185   \n",
       "13819       13819         18384      649255           6         15.2501   \n",
       "13820       13820         18385      649318           6         12.2540   \n",
       "13821       13821         18386      649333           6         25.1521   \n",
       "\n",
       "      activation_arr    valence_arr  \\\n",
       "0      {4|2|3|4|4|4}  {3|3|4|4|3|3}   \n",
       "1        {4|4|4|4|5}    {4|5|4|4|4}   \n",
       "2        {5|3|5|5|4}    {4|5|5|5|5}   \n",
       "3        {5|4|4|3|5}    {4|4|5|4|4}   \n",
       "4        {2|4|5|3|5}    {3|3|5|4|4}   \n",
       "...              ...            ...   \n",
       "13817    {6|3|4|5|5}    {2|5|5|4|5}   \n",
       "13818          {5|6}          {5|5}   \n",
       "13819    {4|3|4|6|5}    {6|5|5|7|6}   \n",
       "13820    {4|3|3|5|4}    {6|5|5|6|5}   \n",
       "13821    {8|3|6|8|6}    {5|5|5|6|5}   \n",
       "\n",
       "                                           transcription  valence  arousal  \\\n",
       "0           yeah, with with a lot of anxiety, and stress        0        0   \n",
       "1      I think it's mind kinda racing adding to, then...        0        0   \n",
       "2                             <filler> it's been average        1        1   \n",
       "3              <filler> I think it's average, yeah, yeah        0        0   \n",
       "4      no I don't, yea I can't really pinpoint any pa...        0        0   \n",
       "...                                                  ...      ...      ...   \n",
       "13817  That's like and it's the same price as all the...        1       -1   \n",
       "13818             Oh yep, yep we finally got it in. Yea.        1       -1   \n",
       "13819  Or there's one that leaves at eight ten AM <la...        2        0   \n",
       "13820  I'm looking at differnt fares. because out of ...        1        0   \n",
       "13821  Yea, OK I will talk with you later like i said...        1        2   \n",
       "\n",
       "                                             path  trial1  trial2  trial3  \\\n",
       "0       /z/lancelcy/PRIORI_Emotion/mfbs/49157.npy       0       0       0   \n",
       "1       /z/lancelcy/PRIORI_Emotion/mfbs/49158.npy       0       0       0   \n",
       "2       /z/lancelcy/PRIORI_Emotion/mfbs/49161.npy       0       0       0   \n",
       "3       /z/lancelcy/PRIORI_Emotion/mfbs/49164.npy       0       0       0   \n",
       "4       /z/lancelcy/PRIORI_Emotion/mfbs/49167.npy       0       0       0   \n",
       "...                                           ...     ...     ...     ...   \n",
       "13817  /z/lancelcy/PRIORI_Emotion/mfbs/649179.npy       0       1       0   \n",
       "13818  /z/lancelcy/PRIORI_Emotion/mfbs/649239.npy       0       1       0   \n",
       "13819  /z/lancelcy/PRIORI_Emotion/mfbs/649255.npy       0       1       0   \n",
       "13820  /z/lancelcy/PRIORI_Emotion/mfbs/649318.npy       0       1       0   \n",
       "13821  /z/lancelcy/PRIORI_Emotion/mfbs/649333.npy       0       1       0   \n",
       "\n",
       "       trial4  trial5                                        new_path  \n",
       "0           1       0   /z/lancelcy/PRIORI_Emotion/pad_mfbs/49157.npy  \n",
       "1           1       0   /z/lancelcy/PRIORI_Emotion/pad_mfbs/49158.npy  \n",
       "2           1       0   /z/lancelcy/PRIORI_Emotion/pad_mfbs/49161.npy  \n",
       "3           1       0   /z/lancelcy/PRIORI_Emotion/pad_mfbs/49164.npy  \n",
       "4           1       0   /z/lancelcy/PRIORI_Emotion/pad_mfbs/49167.npy  \n",
       "...       ...     ...                                             ...  \n",
       "13817       2       0  /z/lancelcy/PRIORI_Emotion/pad_mfbs/649179.npy  \n",
       "13818       2       0  /z/lancelcy/PRIORI_Emotion/pad_mfbs/649239.npy  \n",
       "13819       2       0  /z/lancelcy/PRIORI_Emotion/pad_mfbs/649255.npy  \n",
       "13820       2       0  /z/lancelcy/PRIORI_Emotion/pad_mfbs/649318.npy  \n",
       "13821       2       0  /z/lancelcy/PRIORI_Emotion/pad_mfbs/649333.npy  \n",
       "\n",
       "[13822 rows x 17 columns]"
      ]
     },
     "execution_count": 167,
     "metadata": {},
     "output_type": "execute_result"
    }
   ],
   "source": [
    "df_V1[df_V1[\"valence_arr\"].apply(lambda x: process_score(x))]"
   ]
  },
  {
   "cell_type": "code",
   "execution_count": 195,
   "id": "43304d71-63dc-4cdd-8c3e-2ac971ab4e2c",
   "metadata": {},
   "outputs": [
    {
     "name": "stderr",
     "output_type": "stream",
     "text": [
      "/home/lancelcy/env/lib/python3.6/site-packages/pandas/core/indexing.py:1763: SettingWithCopyWarning: \n",
      "A value is trying to be set on a copy of a slice from a DataFrame.\n",
      "Try using .loc[row_indexer,col_indexer] = value instead\n",
      "\n",
      "See the caveats in the documentation: https://pandas.pydata.org/pandas-docs/stable/user_guide/indexing.html#returning-a-view-versus-a-copy\n",
      "  isetter(loc, value)\n",
      "/home/lancelcy/env/lib/python3.6/site-packages/pandas/core/indexing.py:1763: SettingWithCopyWarning: \n",
      "A value is trying to be set on a copy of a slice from a DataFrame.\n",
      "Try using .loc[row_indexer,col_indexer] = value instead\n",
      "\n",
      "See the caveats in the documentation: https://pandas.pydata.org/pandas-docs/stable/user_guide/indexing.html#returning-a-view-versus-a-copy\n",
      "  isetter(loc, value)\n",
      "/home/lancelcy/env/lib/python3.6/site-packages/pandas/core/indexing.py:1763: SettingWithCopyWarning: \n",
      "A value is trying to be set on a copy of a slice from a DataFrame.\n",
      "Try using .loc[row_indexer,col_indexer] = value instead\n",
      "\n",
      "See the caveats in the documentation: https://pandas.pydata.org/pandas-docs/stable/user_guide/indexing.html#returning-a-view-versus-a-copy\n",
      "  isetter(loc, value)\n"
     ]
    }
   ],
   "source": [
    "# R21[\"sub_id\"].unique()\n",
    "# R21[\"trial1\"]=0\n",
    "R21.loc[R21[\"sub_id\"] ==2280001,\"trial1\"]=1\n",
    "R21.loc[R21[\"sub_id\"] ==5819001,\"trial1\"]=1\n",
    "R21.loc[R21[\"sub_id\"] ==5998001,\"trial1\"]=2"
   ]
  },
  {
   "cell_type": "code",
   "execution_count": 199,
   "id": "2f3537ed-277b-4fe5-9081-9464783d956b",
   "metadata": {},
   "outputs": [],
   "source": [
    "R21.to_csv(\"/home/lancelcy/PRIORI/metadata/R21_v1.csv\")"
   ]
  },
  {
   "cell_type": "code",
   "execution_count": 200,
   "id": "19c0317a-6245-4425-b3fd-59b50a26f626",
   "metadata": {},
   "outputs": [
    {
     "name": "stdout",
     "output_type": "stream",
     "text": [
      "/home/lancelcy/PRIORI/train_script/Maddog\n"
     ]
    }
   ],
   "source": [
    "!pwd"
   ]
  },
  {
   "cell_type": "code",
   "execution_count": 202,
   "id": "4bbd13b8-1c6f-4614-8ec0-d17475aca43e",
   "metadata": {},
   "outputs": [
    {
     "data": {
      "text/plain": [
       "0    2000\n",
       "1     144\n",
       "2     131\n",
       "Name: trial1, dtype: int64"
      ]
     },
     "execution_count": 202,
     "metadata": {},
     "output_type": "execute_result"
    }
   ],
   "source": [
    "R21[\"trial1\"].value_counts()"
   ]
  },
  {
   "cell_type": "code",
   "execution_count": 201,
   "id": "f3e560f1-cbc8-4f09-b4ae-0422d4eff2c2",
   "metadata": {},
   "outputs": [
    {
     "name": "stdout",
     "output_type": "stream",
     "text": [
      "(2275, 40, 4000)\n",
      "(2275,)\n"
     ]
    }
   ],
   "source": [
    "import pickle\n",
    "with open(\"/home/lancelcy/PRIORI/data/X_R21.pk\",\"rb\") as f:\n",
    "    X=np.take(pickle.load(f),idx,axis=0)\n",
    "with open(\"/home/lancelcy/PRIORI/data/Y_R21.pk\",\"rb\") as f:\n",
    "    Y=np.take(pickle.load(f),idx,axis=0)\n",
    "# R21=pd.read_csv(\"/home/lancelcy/PRIORI/metadata/R21_v1.csv\")\n",
    "\n",
    "print(X.shape)\n",
    "print(Y.shape)\n",
    "# idx=df_R21[df_R21[\"valence_arr\"].apply(lambda x: process_score(x))].index\n",
    "# X=np.take(X,idx,axis=0)\n",
    "\n",
    "# Y=np.take(Y,idx,axis=0)\n",
    "\n",
    "np.save(\"/home/lancelcy/PRIORI/data/X_R21.npy\",X)\n",
    "np.save(\"/home/lancelcy/PRIORI/data/Y_R21.npy\",Y)"
   ]
  },
  {
   "cell_type": "code",
   "execution_count": 184,
   "id": "d7658f4c-0299-4b8a-ab39-f5ed9a826602",
   "metadata": {},
   "outputs": [],
   "source": [
    "idx=df_R21.iloc[idx].reset_index()[df_R21.iloc[idx].reset_index()[\"sub_id\"].apply(lambda x:x not in [1830001, 2541001])].index"
   ]
  },
  {
   "cell_type": "code",
   "execution_count": 27,
   "id": "85daca10-773c-459e-89e7-d0cd3cf340a4",
   "metadata": {},
   "outputs": [],
   "source": [
    "df_0=pd.DataFrame(columns=[\"features\",\"dataset\",\"emotion\",\"validation\"])"
   ]
  },
  {
   "cell_type": "code",
   "execution_count": null,
   "id": "4fb0de8b-c392-4954-9216-d732d262bb65",
   "metadata": {},
   "outputs": [],
   "source": [
    "Tr_idx=np.array(df[df[\"trial1\"].apply(lambda x:x==0)].index)\n",
    "Val_idx=np.array(df[df[\"trial1\"].apply(lambda x:x==1)].index)"
   ]
  },
  {
   "cell_type": "code",
   "execution_count": 71,
   "id": "480e44b5-e637-4171-ba39-562392c92f25",
   "metadata": {},
   "outputs": [],
   "source": [
    "df_0[\"features\"]=df_V1[df_V1[\"trial1\"].apply(lambda x:x==0 or x==1)][\"path\"]\n",
    "df_0[\"valence\"]=df_V1[df_V1[\"trial1\"].apply(lambda x:x==0 or x==1)][\"valence\"]\n",
    "df_0.loc[df_0[\"valence\"]==0,\"emotion\"]=\"1;0;0\"\n",
    "df_0.loc[df_0[\"valence\"]==1,\"emotion\"]=\"0;1;0\"\n",
    "df_0.loc[df_0[\"valence\"]==2,\"emotion\"]=\"0;0;1\"\n",
    "df_0[\"dataset\"]=0\n",
    "df_0[\"validation\"]=df_V1[df_V1[\"trial1\"].apply(lambda x:x==0 or x==1)][\"trial1\"]"
   ]
  },
  {
   "cell_type": "code",
   "execution_count": 67,
   "id": "7ad68614-b0f9-451c-82a8-19da22616d97",
   "metadata": {},
   "outputs": [
    {
     "data": {
      "text/plain": [
       "array([0, 1])"
      ]
     },
     "execution_count": 67,
     "metadata": {},
     "output_type": "execute_result"
    }
   ],
   "source": [
    "df_0[\"validation\"].unique()"
   ]
  },
  {
   "cell_type": "code",
   "execution_count": 72,
   "id": "e669cd55-ea1b-4fdc-9692-d2beea7d7583",
   "metadata": {},
   "outputs": [
    {
     "name": "stderr",
     "output_type": "stream",
     "text": [
      "/home/lancelcy/env/lib/python3.6/site-packages/ipykernel_launcher.py:3: SettingWithCopyWarning: \n",
      "A value is trying to be set on a copy of a slice from a DataFrame.\n",
      "Try using .loc[row_indexer,col_indexer] = value instead\n",
      "\n",
      "See the caveats in the documentation: https://pandas.pydata.org/pandas-docs/stable/user_guide/indexing.html#returning-a-view-versus-a-copy\n",
      "  This is separate from the ipykernel package so we can avoid doing imports until\n"
     ]
    }
   ],
   "source": [
    "df_1=pd.DataFrame(columns=[\"features\",\"dataset\",\"emotion\",\"validation\"])\n",
    "train=df_R21[df_R21[\"sub_id\"].apply(lambda x:x==5883001 or x==5918001 or x==5935001)]\n",
    "train[\"val\"]=(train[\"sub_id\"]==5935001)\n",
    "df_1[\"features\"]=train[\"path\"]\n",
    "df_1[\"valence\"]=train[\"valence\"]\n",
    "df_1.loc[df_1[\"valence\"]==0,\"emotion\"]=\"1;0;0\"\n",
    "df_1.loc[df_1[\"valence\"]==1,\"emotion\"]=\"0;1;0\"\n",
    "df_1.loc[df_1[\"valence\"]==2,\"emotion\"]=\"0;0;1\"\n",
    "df_1[\"dataset\"]=1\n",
    "df_1[\"validation\"]=train[\"val\"].astype(int)"
   ]
  },
  {
   "cell_type": "code",
   "execution_count": 159,
   "id": "03ec7ff5-2101-45db-966a-743ebec2a13d",
   "metadata": {},
   "outputs": [],
   "source": [
    "R21=df_R21[df_R21[\"sub_id\"].apply(lambda x:x not in [1830001,2541001])]"
   ]
  },
  {
   "cell_type": "code",
   "execution_count": 165,
   "id": "0d0a1bb5-f121-425e-b531-6e3b97d4214e",
   "metadata": {},
   "outputs": [
    {
     "data": {
      "text/html": [
       "<div>\n",
       "<style scoped>\n",
       "    .dataframe tbody tr th:only-of-type {\n",
       "        vertical-align: middle;\n",
       "    }\n",
       "\n",
       "    .dataframe tbody tr th {\n",
       "        vertical-align: top;\n",
       "    }\n",
       "\n",
       "    .dataframe thead th {\n",
       "        text-align: right;\n",
       "    }\n",
       "</style>\n",
       "<table border=\"1\" class=\"dataframe\">\n",
       "  <thead>\n",
       "    <tr style=\"text-align: right;\">\n",
       "      <th></th>\n",
       "      <th>Unnamed: 0</th>\n",
       "      <th>exp</th>\n",
       "      <th>sub_id</th>\n",
       "      <th>segment_seconds</th>\n",
       "      <th>path</th>\n",
       "      <th>activation_arr</th>\n",
       "      <th>valence_arr</th>\n",
       "      <th>segment_id</th>\n",
       "      <th>valence</th>\n",
       "      <th>arousal</th>\n",
       "    </tr>\n",
       "  </thead>\n",
       "  <tbody>\n",
       "    <tr>\n",
       "      <th>816</th>\n",
       "      <td>1619</td>\n",
       "      <td>assessment</td>\n",
       "      <td>2280001</td>\n",
       "      <td>4.0</td>\n",
       "      <td>/z/lancelcy/R21/mfbs/1619.npy</td>\n",
       "      <td>{5|4|5|5|4}</td>\n",
       "      <td>{5|4|5|5|6}</td>\n",
       "      <td>1619</td>\n",
       "      <td>1</td>\n",
       "      <td>1</td>\n",
       "    </tr>\n",
       "    <tr>\n",
       "      <th>817</th>\n",
       "      <td>1622</td>\n",
       "      <td>assessment</td>\n",
       "      <td>2280001</td>\n",
       "      <td>2.0</td>\n",
       "      <td>/z/lancelcy/R21/mfbs/1622.npy</td>\n",
       "      <td>{5|5|4|4|5}</td>\n",
       "      <td>{4|4|4|4|3}</td>\n",
       "      <td>1622</td>\n",
       "      <td>0</td>\n",
       "      <td>1</td>\n",
       "    </tr>\n",
       "    <tr>\n",
       "      <th>818</th>\n",
       "      <td>1623</td>\n",
       "      <td>assessment</td>\n",
       "      <td>2280001</td>\n",
       "      <td>2.0</td>\n",
       "      <td>/z/lancelcy/R21/mfbs/1623.npy</td>\n",
       "      <td>{5|5|6|5|6}</td>\n",
       "      <td>{4|5|5|5|7}</td>\n",
       "      <td>1623</td>\n",
       "      <td>1</td>\n",
       "      <td>1</td>\n",
       "    </tr>\n",
       "    <tr>\n",
       "      <th>819</th>\n",
       "      <td>1624</td>\n",
       "      <td>assessment</td>\n",
       "      <td>2280001</td>\n",
       "      <td>3.0</td>\n",
       "      <td>/z/lancelcy/R21/mfbs/1624.npy</td>\n",
       "      <td>{5|4|4|4|3}</td>\n",
       "      <td>{5|5|5|5|3}</td>\n",
       "      <td>1624</td>\n",
       "      <td>1</td>\n",
       "      <td>0</td>\n",
       "    </tr>\n",
       "    <tr>\n",
       "      <th>820</th>\n",
       "      <td>1625</td>\n",
       "      <td>assessment</td>\n",
       "      <td>2280001</td>\n",
       "      <td>5.0</td>\n",
       "      <td>/z/lancelcy/R21/mfbs/1625.npy</td>\n",
       "      <td>{4|4|4|4|5}</td>\n",
       "      <td>{5|3|5|4|5}</td>\n",
       "      <td>1625</td>\n",
       "      <td>1</td>\n",
       "      <td>0</td>\n",
       "    </tr>\n",
       "    <tr>\n",
       "      <th>...</th>\n",
       "      <td>...</td>\n",
       "      <td>...</td>\n",
       "      <td>...</td>\n",
       "      <td>...</td>\n",
       "      <td>...</td>\n",
       "      <td>...</td>\n",
       "      <td>...</td>\n",
       "      <td>...</td>\n",
       "      <td>...</td>\n",
       "      <td>...</td>\n",
       "    </tr>\n",
       "    <tr>\n",
       "      <th>4030</th>\n",
       "      <td>7390</td>\n",
       "      <td>personal</td>\n",
       "      <td>5998001</td>\n",
       "      <td>6.0</td>\n",
       "      <td>/z/lancelcy/R21/mfbs/7390.npy</td>\n",
       "      <td>{6|7|7|7}</td>\n",
       "      <td>{4|7|6|6}</td>\n",
       "      <td>7390</td>\n",
       "      <td>2</td>\n",
       "      <td>2</td>\n",
       "    </tr>\n",
       "    <tr>\n",
       "      <th>4031</th>\n",
       "      <td>7391</td>\n",
       "      <td>personal</td>\n",
       "      <td>5998001</td>\n",
       "      <td>6.0</td>\n",
       "      <td>/z/lancelcy/R21/mfbs/7391.npy</td>\n",
       "      <td>{7|7|7|7}</td>\n",
       "      <td>{6|7|7|6}</td>\n",
       "      <td>7391</td>\n",
       "      <td>2</td>\n",
       "      <td>2</td>\n",
       "    </tr>\n",
       "    <tr>\n",
       "      <th>4033</th>\n",
       "      <td>7393</td>\n",
       "      <td>personal</td>\n",
       "      <td>5998001</td>\n",
       "      <td>4.0</td>\n",
       "      <td>/z/lancelcy/R21/mfbs/7393.npy</td>\n",
       "      <td>{6|7|7|6}</td>\n",
       "      <td>{5|6|6|6}</td>\n",
       "      <td>7393</td>\n",
       "      <td>2</td>\n",
       "      <td>2</td>\n",
       "    </tr>\n",
       "    <tr>\n",
       "      <th>4034</th>\n",
       "      <td>7394</td>\n",
       "      <td>personal</td>\n",
       "      <td>5998001</td>\n",
       "      <td>4.0</td>\n",
       "      <td>/z/lancelcy/R21/mfbs/7394.npy</td>\n",
       "      <td>{6|7|7|7}</td>\n",
       "      <td>{6|6|6|6}</td>\n",
       "      <td>7394</td>\n",
       "      <td>2</td>\n",
       "      <td>2</td>\n",
       "    </tr>\n",
       "    <tr>\n",
       "      <th>4035</th>\n",
       "      <td>7395</td>\n",
       "      <td>personal</td>\n",
       "      <td>5998001</td>\n",
       "      <td>12.0</td>\n",
       "      <td>/z/lancelcy/R21/mfbs/7395.npy</td>\n",
       "      <td>{6|6|7|7}</td>\n",
       "      <td>{4|4|5|4}</td>\n",
       "      <td>7395</td>\n",
       "      <td>0</td>\n",
       "      <td>2</td>\n",
       "    </tr>\n",
       "  </tbody>\n",
       "</table>\n",
       "<p>2275 rows × 10 columns</p>\n",
       "</div>"
      ],
      "text/plain": [
       "      Unnamed: 0         exp   sub_id  segment_seconds  \\\n",
       "816         1619  assessment  2280001              4.0   \n",
       "817         1622  assessment  2280001              2.0   \n",
       "818         1623  assessment  2280001              2.0   \n",
       "819         1624  assessment  2280001              3.0   \n",
       "820         1625  assessment  2280001              5.0   \n",
       "...          ...         ...      ...              ...   \n",
       "4030        7390    personal  5998001              6.0   \n",
       "4031        7391    personal  5998001              6.0   \n",
       "4033        7393    personal  5998001              4.0   \n",
       "4034        7394    personal  5998001              4.0   \n",
       "4035        7395    personal  5998001             12.0   \n",
       "\n",
       "                               path activation_arr  valence_arr  segment_id  \\\n",
       "816   /z/lancelcy/R21/mfbs/1619.npy    {5|4|5|5|4}  {5|4|5|5|6}        1619   \n",
       "817   /z/lancelcy/R21/mfbs/1622.npy    {5|5|4|4|5}  {4|4|4|4|3}        1622   \n",
       "818   /z/lancelcy/R21/mfbs/1623.npy    {5|5|6|5|6}  {4|5|5|5|7}        1623   \n",
       "819   /z/lancelcy/R21/mfbs/1624.npy    {5|4|4|4|3}  {5|5|5|5|3}        1624   \n",
       "820   /z/lancelcy/R21/mfbs/1625.npy    {4|4|4|4|5}  {5|3|5|4|5}        1625   \n",
       "...                             ...            ...          ...         ...   \n",
       "4030  /z/lancelcy/R21/mfbs/7390.npy      {6|7|7|7}    {4|7|6|6}        7390   \n",
       "4031  /z/lancelcy/R21/mfbs/7391.npy      {7|7|7|7}    {6|7|7|6}        7391   \n",
       "4033  /z/lancelcy/R21/mfbs/7393.npy      {6|7|7|6}    {5|6|6|6}        7393   \n",
       "4034  /z/lancelcy/R21/mfbs/7394.npy      {6|7|7|7}    {6|6|6|6}        7394   \n",
       "4035  /z/lancelcy/R21/mfbs/7395.npy      {6|6|7|7}    {4|4|5|4}        7395   \n",
       "\n",
       "      valence  arousal  \n",
       "816         1        1  \n",
       "817         0        1  \n",
       "818         1        1  \n",
       "819         1        0  \n",
       "820         1        0  \n",
       "...       ...      ...  \n",
       "4030        2        2  \n",
       "4031        2        2  \n",
       "4033        2        2  \n",
       "4034        2        2  \n",
       "4035        0        2  \n",
       "\n",
       "[2275 rows x 10 columns]"
      ]
     },
     "execution_count": 165,
     "metadata": {},
     "output_type": "execute_result"
    }
   ],
   "source": [
    "R21"
   ]
  },
  {
   "cell_type": "code",
   "execution_count": 76,
   "id": "f5bbd10e-2090-4b5a-9242-99e7a5651ead",
   "metadata": {},
   "outputs": [
    {
     "data": {
      "text/html": [
       "<div>\n",
       "<style scoped>\n",
       "    .dataframe tbody tr th:only-of-type {\n",
       "        vertical-align: middle;\n",
       "    }\n",
       "\n",
       "    .dataframe tbody tr th {\n",
       "        vertical-align: top;\n",
       "    }\n",
       "\n",
       "    .dataframe thead th {\n",
       "        text-align: right;\n",
       "    }\n",
       "</style>\n",
       "<table border=\"1\" class=\"dataframe\">\n",
       "  <thead>\n",
       "    <tr style=\"text-align: right;\">\n",
       "      <th></th>\n",
       "      <th>features</th>\n",
       "      <th>dataset</th>\n",
       "      <th>emotion</th>\n",
       "      <th>validation</th>\n",
       "      <th>valence</th>\n",
       "    </tr>\n",
       "  </thead>\n",
       "  <tbody>\n",
       "    <tr>\n",
       "      <th>0</th>\n",
       "      <td>/z/lancelcy/PRIORI_Emotion/mfbs/49157.npy</td>\n",
       "      <td>0</td>\n",
       "      <td>1;0;0</td>\n",
       "      <td>0</td>\n",
       "      <td>0</td>\n",
       "    </tr>\n",
       "    <tr>\n",
       "      <th>1</th>\n",
       "      <td>/z/lancelcy/PRIORI_Emotion/mfbs/49158.npy</td>\n",
       "      <td>0</td>\n",
       "      <td>1;0;0</td>\n",
       "      <td>0</td>\n",
       "      <td>0</td>\n",
       "    </tr>\n",
       "    <tr>\n",
       "      <th>2</th>\n",
       "      <td>/z/lancelcy/PRIORI_Emotion/mfbs/49161.npy</td>\n",
       "      <td>0</td>\n",
       "      <td>0;1;0</td>\n",
       "      <td>0</td>\n",
       "      <td>1</td>\n",
       "    </tr>\n",
       "    <tr>\n",
       "      <th>3</th>\n",
       "      <td>/z/lancelcy/PRIORI_Emotion/mfbs/49164.npy</td>\n",
       "      <td>0</td>\n",
       "      <td>1;0;0</td>\n",
       "      <td>0</td>\n",
       "      <td>0</td>\n",
       "    </tr>\n",
       "    <tr>\n",
       "      <th>4</th>\n",
       "      <td>/z/lancelcy/PRIORI_Emotion/mfbs/49167.npy</td>\n",
       "      <td>0</td>\n",
       "      <td>1;0;0</td>\n",
       "      <td>0</td>\n",
       "      <td>0</td>\n",
       "    </tr>\n",
       "    <tr>\n",
       "      <th>...</th>\n",
       "      <td>...</td>\n",
       "      <td>...</td>\n",
       "      <td>...</td>\n",
       "      <td>...</td>\n",
       "      <td>...</td>\n",
       "    </tr>\n",
       "    <tr>\n",
       "      <th>13817</th>\n",
       "      <td>/z/lancelcy/PRIORI_Emotion/mfbs/649179.npy</td>\n",
       "      <td>0</td>\n",
       "      <td>0;1;0</td>\n",
       "      <td>0</td>\n",
       "      <td>1</td>\n",
       "    </tr>\n",
       "    <tr>\n",
       "      <th>13818</th>\n",
       "      <td>/z/lancelcy/PRIORI_Emotion/mfbs/649239.npy</td>\n",
       "      <td>0</td>\n",
       "      <td>0;1;0</td>\n",
       "      <td>0</td>\n",
       "      <td>1</td>\n",
       "    </tr>\n",
       "    <tr>\n",
       "      <th>13819</th>\n",
       "      <td>/z/lancelcy/PRIORI_Emotion/mfbs/649255.npy</td>\n",
       "      <td>0</td>\n",
       "      <td>0;0;1</td>\n",
       "      <td>0</td>\n",
       "      <td>2</td>\n",
       "    </tr>\n",
       "    <tr>\n",
       "      <th>13820</th>\n",
       "      <td>/z/lancelcy/PRIORI_Emotion/mfbs/649318.npy</td>\n",
       "      <td>0</td>\n",
       "      <td>0;1;0</td>\n",
       "      <td>0</td>\n",
       "      <td>1</td>\n",
       "    </tr>\n",
       "    <tr>\n",
       "      <th>13821</th>\n",
       "      <td>/z/lancelcy/PRIORI_Emotion/mfbs/649333.npy</td>\n",
       "      <td>0</td>\n",
       "      <td>0;1;0</td>\n",
       "      <td>0</td>\n",
       "      <td>1</td>\n",
       "    </tr>\n",
       "  </tbody>\n",
       "</table>\n",
       "<p>11722 rows × 5 columns</p>\n",
       "</div>"
      ],
      "text/plain": [
       "                                         features  dataset emotion  \\\n",
       "0       /z/lancelcy/PRIORI_Emotion/mfbs/49157.npy        0   1;0;0   \n",
       "1       /z/lancelcy/PRIORI_Emotion/mfbs/49158.npy        0   1;0;0   \n",
       "2       /z/lancelcy/PRIORI_Emotion/mfbs/49161.npy        0   0;1;0   \n",
       "3       /z/lancelcy/PRIORI_Emotion/mfbs/49164.npy        0   1;0;0   \n",
       "4       /z/lancelcy/PRIORI_Emotion/mfbs/49167.npy        0   1;0;0   \n",
       "...                                           ...      ...     ...   \n",
       "13817  /z/lancelcy/PRIORI_Emotion/mfbs/649179.npy        0   0;1;0   \n",
       "13818  /z/lancelcy/PRIORI_Emotion/mfbs/649239.npy        0   0;1;0   \n",
       "13819  /z/lancelcy/PRIORI_Emotion/mfbs/649255.npy        0   0;0;1   \n",
       "13820  /z/lancelcy/PRIORI_Emotion/mfbs/649318.npy        0   0;1;0   \n",
       "13821  /z/lancelcy/PRIORI_Emotion/mfbs/649333.npy        0   0;1;0   \n",
       "\n",
       "       validation  valence  \n",
       "0               0        0  \n",
       "1               0        0  \n",
       "2               0        1  \n",
       "3               0        0  \n",
       "4               0        0  \n",
       "...           ...      ...  \n",
       "13817           0        1  \n",
       "13818           0        1  \n",
       "13819           0        2  \n",
       "13820           0        1  \n",
       "13821           0        1  \n",
       "\n",
       "[11722 rows x 5 columns]"
      ]
     },
     "execution_count": 76,
     "metadata": {},
     "output_type": "execute_result"
    }
   ],
   "source": [
    "df_V1"
   ]
  },
  {
   "cell_type": "code",
   "execution_count": 42,
   "id": "50f333a0-ae37-4e2c-afec-3a35bec3c58a",
   "metadata": {},
   "outputs": [
    {
     "data": {
      "text/plain": [
       "0    9614\n",
       "1    2108\n",
       "Name: validation, dtype: int64"
      ]
     },
     "execution_count": 42,
     "metadata": {},
     "output_type": "execute_result"
    }
   ],
   "source": [
    "df_0[\"validation\"].value_counts()"
   ]
  },
  {
   "cell_type": "code",
   "execution_count": 74,
   "id": "952833b1-15a3-4935-acea-1aef63975f39",
   "metadata": {},
   "outputs": [],
   "source": [
    "df=pd.concat([df_0, df_1], axis=0)"
   ]
  },
  {
   "cell_type": "code",
   "execution_count": 77,
   "id": "f71cec06-6e89-41e1-9585-fdb6bffbb122",
   "metadata": {},
   "outputs": [],
   "source": [
    "df.to_csv(\"train.csv\")"
   ]
  },
  {
   "cell_type": "code",
   "execution_count": 149,
   "id": "99b347ec-fc8b-4ff5-b672-50c76f1d0a0d",
   "metadata": {},
   "outputs": [],
   "source": [
    "# test_0=df_V1[df_V1[\"trial1\"].apply(lambda x:x==2)][\"path\"]\n",
    "R21=df_R21[df_R21[\"sub_id\"].apply(lambda x:x not in [5883001, 5918001,5935001,1830001,2541001])]\n",
    "test_1=df_R21[df_R21[\"sub_id\"].apply(lambda x:x not in [5883001, 5918001,5935001,1830001,2541001])][\"path\"]"
   ]
  },
  {
   "cell_type": "code",
   "execution_count": 151,
   "id": "657790f5-c307-4e98-aafc-e4eadcd4efe9",
   "metadata": {},
   "outputs": [
    {
     "data": {
      "text/plain": [
       "(1179,)"
      ]
     },
     "execution_count": 151,
     "metadata": {},
     "output_type": "execute_result"
    }
   ],
   "source": [
    "test_1.shape"
   ]
  },
  {
   "cell_type": "code",
   "execution_count": 152,
   "id": "e786ed1d-043f-4bbd-bfcf-92b59c2b9e94",
   "metadata": {},
   "outputs": [],
   "source": [
    "test_1.to_csv(\"test_R21.csv\",header=['features'])"
   ]
  },
  {
   "cell_type": "code",
   "execution_count": 78,
   "id": "ed96ffc2-5e00-4313-b9df-383bb624cd9b",
   "metadata": {},
   "outputs": [],
   "source": [
    "t0=df_V1[df_V1[\"trial1\"].apply(lambda x:x==2)][\"valence\"]\n",
    "t1=df_R21[df_R21[\"sub_id\"].apply(lambda x:x not in [5883001, 5918001,5935001,1830001])][\"valence\"]"
   ]
  },
  {
   "cell_type": "code",
   "execution_count": 128,
   "id": "f0d555e7-5ed6-4dad-96e5-f2b14833f66c",
   "metadata": {},
   "outputs": [
    {
     "data": {
      "text/plain": [
       "array([ 816,  817,  818, ..., 2553, 2554, 2555])"
      ]
     },
     "execution_count": 128,
     "metadata": {},
     "output_type": "execute_result"
    }
   ],
   "source": [
    "\n",
    "test=df_R21[df_R21[\"sub_id\"].apply(lambda x:x not in [5883001, 5918001,5935001])].reset_index()\n",
    "np.array(test[test[\"sub_id\"].apply(lambda x:x not in [1830001,2541001])].index)\n"
   ]
  },
  {
   "cell_type": "code",
   "execution_count": 129,
   "id": "e7e7376d-87b5-4002-9a3f-44d5cbbcb383",
   "metadata": {},
   "outputs": [
    {
     "name": "stdout",
     "output_type": "stream",
     "text": [
      "0.37505205991343843\n"
     ]
    }
   ],
   "source": [
    "idx=np.array(test[test[\"sub_id\"].apply(lambda x:x not in [1830001,2541001])].index)\n",
    "print(metrics.recall_score(np.take(t1.to_numpy(),idx,axis=0),np.take(np.array(pred_arr)[2100:],idx,axis=0), average=\"macro\"))\n"
   ]
  },
  {
   "cell_type": "code",
   "execution_count": 130,
   "id": "3c5c1a70-ea62-4512-8cac-1545222cbec4",
   "metadata": {},
   "outputs": [
    {
     "name": "stdout",
     "output_type": "stream",
     "text": [
      "[ 816  817  818 ... 2553 2554 2555]\n"
     ]
    }
   ],
   "source": [
    "print(idx)"
   ]
  },
  {
   "cell_type": "code",
   "execution_count": 63,
   "id": "ce098486-486c-4209-af5d-8b7b1e430409",
   "metadata": {},
   "outputs": [],
   "source": [
    "pd.concat([test_0,test_1]).to_csv(\"test.csv\",header=['features'])"
   ]
  },
  {
   "cell_type": "code",
   "execution_count": 95,
   "id": "8408a273-53fb-41d7-9df6-35af193d06d8",
   "metadata": {},
   "outputs": [],
   "source": [
    "t=pd.concat([t0,t1]).to_numpy()"
   ]
  },
  {
   "cell_type": "code",
   "execution_count": 153,
   "id": "bd8e1666-6f5a-4e73-a538-7104b3c22f1f",
   "metadata": {},
   "outputs": [],
   "source": [
    "pred=pd.read_csv(\"/home/lancelcy/PRIORI/test_result/maddog_R21.csv\")[\"emotion\"]"
   ]
  },
  {
   "cell_type": "code",
   "execution_count": 154,
   "id": "937ed072-9df2-405f-bd60-c21a5dd7af63",
   "metadata": {},
   "outputs": [],
   "source": [
    "pred_arr=[]\n",
    "for val in pred:\n",
    "#     print(val)\n",
    "    lis=val.split(\";\")\n",
    "    pred_arr.append(np.argmax(lis))\n",
    "    "
   ]
  },
  {
   "cell_type": "code",
   "execution_count": 145,
   "id": "92c6d673-55de-4329-b4f8-1a41b8bc0a9d",
   "metadata": {},
   "outputs": [],
   "source": [
    "def process_score(s):\n",
    "    punc_list = set('.;:!?|{}/\\\\,#@$&)(\\'\"')\n",
    "    t = str.maketrans(dict.fromkeys(punc_list, \" \"))\n",
    "    ann=s.translate(t).split()\n",
    "    l0=0\n",
    "    l1=0\n",
    "    l2=0\n",
    "    for val in ann:\n",
    "        if int(val)<5:\n",
    "            l0+=1\n",
    "        if int(val)==5:\n",
    "            l1+=1\n",
    "        if int(val)>5:\n",
    "            l2+=1\n",
    "#     return np.argmax([l0,l1,l2])\n",
    "    sums=l0+l1+l2\n",
    "    if np.max(np.array([l2/sums,l1/sums,l0/sums]))<=0.5:\n",
    "        return False\n",
    "    return True"
   ]
  },
  {
   "cell_type": "code",
   "execution_count": 155,
   "id": "e8687d34-288d-4ee4-ab20-1f34f5a86cd8",
   "metadata": {},
   "outputs": [
    {
     "name": "stdout",
     "output_type": "stream",
     "text": [
      "0.3864293362593679\n"
     ]
    }
   ],
   "source": [
    "np.array(pred_arr).shape\n",
    "print(metrics.recall_score(R21[\"valence\"].to_numpy(),np.array(pred_arr), average=\"macro\"))"
   ]
  },
  {
   "cell_type": "code",
   "execution_count": 126,
   "id": "b3cc8e23-e0a7-4c61-8bcf-0e26af2f9a60",
   "metadata": {},
   "outputs": [
    {
     "data": {
      "text/plain": [
       "1    22\n",
       "0    16\n",
       "2     8\n",
       "Name: valence, dtype: int64"
      ]
     },
     "execution_count": 126,
     "metadata": {},
     "output_type": "execute_result"
    }
   ],
   "source": [
    "test[test[\"sub_id\"].apply(lambda x:x==5819001)][\"valence\"].value_counts()"
   ]
  },
  {
   "cell_type": "code",
   "execution_count": 141,
   "id": "1f8849bb-2da5-4f34-8f60-6c555273c19e",
   "metadata": {},
   "outputs": [
    {
     "name": "stdout",
     "output_type": "stream",
     "text": [
      "1830001\n",
      "0.3325681701606872\n",
      "2280001\n",
      "0.27777777777777773\n",
      "2541001\n",
      "0.32356902356902356\n",
      "5819001\n",
      "0.4791666666666667\n",
      "5865001\n"
     ]
    },
    {
     "ename": "IndexError",
     "evalue": "index 1550 is out of bounds for axis 0 with size 1550",
     "output_type": "error",
     "traceback": [
      "\u001b[0;31m---------------------------------------------------------------------------\u001b[0m",
      "\u001b[0;31mIndexError\u001b[0m                                Traceback (most recent call last)",
      "\u001b[0;32m<ipython-input-141-c212425a03e4>\u001b[0m in \u001b[0;36m<module>\u001b[0;34m\u001b[0m\n\u001b[1;32m      4\u001b[0m     \u001b[0mprint\u001b[0m\u001b[0;34m(\u001b[0m\u001b[0mi\u001b[0m\u001b[0;34m)\u001b[0m\u001b[0;34m\u001b[0m\u001b[0;34m\u001b[0m\u001b[0m\n\u001b[1;32m      5\u001b[0m     \u001b[0mindex\u001b[0m\u001b[0;34m=\u001b[0m\u001b[0mtest\u001b[0m\u001b[0;34m[\u001b[0m\u001b[0mtest\u001b[0m\u001b[0;34m[\u001b[0m\u001b[0;34m\"sub_id\"\u001b[0m\u001b[0;34m]\u001b[0m\u001b[0;34m.\u001b[0m\u001b[0mapply\u001b[0m\u001b[0;34m(\u001b[0m\u001b[0;32mlambda\u001b[0m \u001b[0mx\u001b[0m\u001b[0;34m:\u001b[0m\u001b[0mx\u001b[0m\u001b[0;34m==\u001b[0m\u001b[0mi\u001b[0m\u001b[0;34m)\u001b[0m\u001b[0;34m]\u001b[0m\u001b[0;34m.\u001b[0m\u001b[0mindex\u001b[0m\u001b[0;34m\u001b[0m\u001b[0;34m\u001b[0m\u001b[0m\n\u001b[0;32m----> 6\u001b[0;31m     \u001b[0mprint\u001b[0m\u001b[0;34m(\u001b[0m\u001b[0mmetrics\u001b[0m\u001b[0;34m.\u001b[0m\u001b[0mrecall_score\u001b[0m\u001b[0;34m(\u001b[0m\u001b[0mnp\u001b[0m\u001b[0;34m.\u001b[0m\u001b[0mtake\u001b[0m\u001b[0;34m(\u001b[0m\u001b[0mt1\u001b[0m\u001b[0;34m.\u001b[0m\u001b[0mto_numpy\u001b[0m\u001b[0;34m(\u001b[0m\u001b[0;34m)\u001b[0m\u001b[0;34m,\u001b[0m\u001b[0mindex\u001b[0m\u001b[0;34m,\u001b[0m\u001b[0maxis\u001b[0m\u001b[0;34m=\u001b[0m\u001b[0;36m0\u001b[0m\u001b[0;34m)\u001b[0m\u001b[0;34m,\u001b[0m\u001b[0mnp\u001b[0m\u001b[0;34m.\u001b[0m\u001b[0mtake\u001b[0m\u001b[0;34m(\u001b[0m\u001b[0mnp\u001b[0m\u001b[0;34m.\u001b[0m\u001b[0marray\u001b[0m\u001b[0;34m(\u001b[0m\u001b[0mpred_arr\u001b[0m\u001b[0;34m)\u001b[0m\u001b[0;34m,\u001b[0m\u001b[0mindex\u001b[0m\u001b[0;34m,\u001b[0m\u001b[0maxis\u001b[0m\u001b[0;34m=\u001b[0m\u001b[0;36m0\u001b[0m\u001b[0;34m)\u001b[0m\u001b[0;34m,\u001b[0m \u001b[0maverage\u001b[0m\u001b[0;34m=\u001b[0m\u001b[0;34m\"macro\"\u001b[0m\u001b[0;34m)\u001b[0m\u001b[0;34m)\u001b[0m\u001b[0;34m\u001b[0m\u001b[0;34m\u001b[0m\u001b[0m\n\u001b[0m\u001b[1;32m      7\u001b[0m \u001b[0;31m# metrics.recall_score(t1.to_numpy()[816:932],np.array(pred_arr)[2100:2915],average=\"macro\")\u001b[0m\u001b[0;34m\u001b[0m\u001b[0;34m\u001b[0m\u001b[0;34m\u001b[0m\u001b[0m\n",
      "\u001b[0;32m<__array_function__ internals>\u001b[0m in \u001b[0;36mtake\u001b[0;34m(*args, **kwargs)\u001b[0m\n",
      "\u001b[0;32m~/env/lib/python3.6/site-packages/numpy/core/fromnumeric.py\u001b[0m in \u001b[0;36mtake\u001b[0;34m(a, indices, axis, out, mode)\u001b[0m\n\u001b[1;32m    189\u001b[0m            [5, 7]])\n\u001b[1;32m    190\u001b[0m     \"\"\"\n\u001b[0;32m--> 191\u001b[0;31m     \u001b[0;32mreturn\u001b[0m \u001b[0m_wrapfunc\u001b[0m\u001b[0;34m(\u001b[0m\u001b[0ma\u001b[0m\u001b[0;34m,\u001b[0m \u001b[0;34m'take'\u001b[0m\u001b[0;34m,\u001b[0m \u001b[0mindices\u001b[0m\u001b[0;34m,\u001b[0m \u001b[0maxis\u001b[0m\u001b[0;34m=\u001b[0m\u001b[0maxis\u001b[0m\u001b[0;34m,\u001b[0m \u001b[0mout\u001b[0m\u001b[0;34m=\u001b[0m\u001b[0mout\u001b[0m\u001b[0;34m,\u001b[0m \u001b[0mmode\u001b[0m\u001b[0;34m=\u001b[0m\u001b[0mmode\u001b[0m\u001b[0;34m)\u001b[0m\u001b[0;34m\u001b[0m\u001b[0;34m\u001b[0m\u001b[0m\n\u001b[0m\u001b[1;32m    192\u001b[0m \u001b[0;34m\u001b[0m\u001b[0m\n\u001b[1;32m    193\u001b[0m \u001b[0;34m\u001b[0m\u001b[0m\n",
      "\u001b[0;32m~/env/lib/python3.6/site-packages/numpy/core/fromnumeric.py\u001b[0m in \u001b[0;36m_wrapfunc\u001b[0;34m(obj, method, *args, **kwds)\u001b[0m\n\u001b[1;32m     56\u001b[0m \u001b[0;34m\u001b[0m\u001b[0m\n\u001b[1;32m     57\u001b[0m     \u001b[0;32mtry\u001b[0m\u001b[0;34m:\u001b[0m\u001b[0;34m\u001b[0m\u001b[0;34m\u001b[0m\u001b[0m\n\u001b[0;32m---> 58\u001b[0;31m         \u001b[0;32mreturn\u001b[0m \u001b[0mbound\u001b[0m\u001b[0;34m(\u001b[0m\u001b[0;34m*\u001b[0m\u001b[0margs\u001b[0m\u001b[0;34m,\u001b[0m \u001b[0;34m**\u001b[0m\u001b[0mkwds\u001b[0m\u001b[0;34m)\u001b[0m\u001b[0;34m\u001b[0m\u001b[0;34m\u001b[0m\u001b[0m\n\u001b[0m\u001b[1;32m     59\u001b[0m     \u001b[0;32mexcept\u001b[0m \u001b[0mTypeError\u001b[0m\u001b[0;34m:\u001b[0m\u001b[0;34m\u001b[0m\u001b[0;34m\u001b[0m\u001b[0m\n\u001b[1;32m     60\u001b[0m         \u001b[0;31m# A TypeError occurs if the object does have such a method in its\u001b[0m\u001b[0;34m\u001b[0m\u001b[0;34m\u001b[0m\u001b[0;34m\u001b[0m\u001b[0m\n",
      "\u001b[0;31mIndexError\u001b[0m: index 1550 is out of bounds for axis 0 with size 1550"
     ]
    }
   ],
   "source": [
    "from sklearn import metrics\n",
    "id_arr=list(test[\"sub_id\"].unique())\n",
    "for i in id_arr:\n",
    "    print(i)\n",
    "    index=test[test[\"sub_id\"].apply(lambda x:x==i)].index\n",
    "    print(metrics.recall_score(np.take(t1.to_numpy(),index,axis=0),np.take(np.array(pred_arr),index,axis=0), average=\"macro\"))\n",
    "# metrics.recall_score(t1.to_numpy()[816:932],np.array(pred_arr)[2100:2915],average=\"macro\")"
   ]
  },
  {
   "cell_type": "code",
   "execution_count": 102,
   "id": "ad46c27a-a96d-42d6-af14-9ad456e39d55",
   "metadata": {},
   "outputs": [
    {
     "data": {
      "text/plain": [
       "0.48654205269298667"
      ]
     },
     "execution_count": 102,
     "metadata": {},
     "output_type": "execute_result"
    }
   ],
   "source": [
    "metrics.recall_score(t0.to_numpy(),np.array(pred_arr)[:2100],average=\"macro\")"
   ]
  },
  {
   "cell_type": "code",
   "execution_count": null,
   "id": "2c874481-abc5-4f3f-a150-123b493c6433",
   "metadata": {},
   "outputs": [],
   "source": [
    "ex3=pd.read_csv(\"/home/aromana/projects/bpd_wti/Maddog_PrioriIEMSP/train0.csv\")\n"
   ]
  },
  {
   "cell_type": "code",
   "execution_count": null,
   "id": "2445f0a8-8db4-496f-a588-9db24400dfd4",
   "metadata": {},
   "outputs": [],
   "source": [
    "ex3"
   ]
  }
 ],
 "metadata": {
  "kernelspec": {
   "display_name": "Python 3",
   "language": "python",
   "name": "python3"
  },
  "language_info": {
   "codemirror_mode": {
    "name": "ipython",
    "version": 3
   },
   "file_extension": ".py",
   "mimetype": "text/x-python",
   "name": "python",
   "nbconvert_exporter": "python",
   "pygments_lexer": "ipython3",
   "version": "3.6.9"
  }
 },
 "nbformat": 4,
 "nbformat_minor": 5
}
