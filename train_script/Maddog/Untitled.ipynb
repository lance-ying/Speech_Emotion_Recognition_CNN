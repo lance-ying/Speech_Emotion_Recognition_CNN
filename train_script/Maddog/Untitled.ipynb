{
 "cells": [
  {
   "cell_type": "code",
   "execution_count": 2,
   "id": "8803b043-0c34-4cc0-9d25-ddf577688481",
   "metadata": {},
   "outputs": [],
   "source": [
    "import pandas as pd\n",
    "import numpy as np"
   ]
  },
  {
   "cell_type": "code",
   "execution_count": 175,
   "id": "7bb7cc0f-6fb2-48de-8e2f-2fd956716313",
   "metadata": {},
   "outputs": [],
   "source": [
    "ex3=pd.read_csv(\"/home/aromana/projects/bpd_wti/Maddog_PrioriIEMSP/train0.csv\")\n",
    "df_V1=pd.read_csv(\"/home/lancelcy/PRIORI/metadata/V1_v2.csv\")\n",
    "df_R21=pd.read_csv(\"/home/lancelcy/PRIORI/metadata/R21_v2.csv\")"
   ]
  },
  {
   "cell_type": "code",
   "execution_count": null,
   "id": "13f40c02-1392-4d80-baca-78946931a529",
   "metadata": {},
   "outputs": [],
   "source": [
    "df_R21[\"emotion\"]=df_R21[\"emotion\"].apply(lambda x: )"
   ]
  },
  {
   "cell_type": "code",
   "execution_count": 169,
   "id": "f7f1d60f-ba58-408d-a738-0e3c3d969eba",
   "metadata": {},
   "outputs": [
    {
     "data": {
      "text/plain": [
       "'(0.16666666666666666, 0.5, 0.3333333333333333)'"
      ]
     },
     "execution_count": 169,
     "metadata": {},
     "output_type": "execute_result"
    }
   ],
   "source": [
    "df_R21[\"emotion\"].iloc[0]"
   ]
  },
  {
   "cell_type": "code",
   "execution_count": 35,
   "id": "cb6e516b-a49d-4d63-87b4-0570ff8145be",
   "metadata": {},
   "outputs": [
    {
     "data": {
      "text/html": [
       "<div>\n",
       "<style scoped>\n",
       "    .dataframe tbody tr th:only-of-type {\n",
       "        vertical-align: middle;\n",
       "    }\n",
       "\n",
       "    .dataframe tbody tr th {\n",
       "        vertical-align: top;\n",
       "    }\n",
       "\n",
       "    .dataframe thead th {\n",
       "        text-align: right;\n",
       "    }\n",
       "</style>\n",
       "<table border=\"1\" class=\"dataframe\">\n",
       "  <thead>\n",
       "    <tr style=\"text-align: right;\">\n",
       "      <th></th>\n",
       "      <th>Unnamed: 0</th>\n",
       "      <th>exp</th>\n",
       "      <th>sub_id</th>\n",
       "      <th>segment_seconds</th>\n",
       "      <th>path</th>\n",
       "      <th>activation_arr</th>\n",
       "      <th>valence_arr</th>\n",
       "      <th>segment_id</th>\n",
       "      <th>valence</th>\n",
       "      <th>arousal</th>\n",
       "      <th>emotion</th>\n",
       "    </tr>\n",
       "  </thead>\n",
       "  <tbody>\n",
       "    <tr>\n",
       "      <th>0</th>\n",
       "      <td>0</td>\n",
       "      <td>personal</td>\n",
       "      <td>1830001</td>\n",
       "      <td>4.0</td>\n",
       "      <td>/z/lancelcy/R21/mfbs/0.npy</td>\n",
       "      <td>{5|4|5|7|5|6}</td>\n",
       "      <td>{4|5|5|6|5|7}</td>\n",
       "      <td>0</td>\n",
       "      <td>1</td>\n",
       "      <td>1</td>\n",
       "      <td>(0.16666666666666666, 0.5, 0.3333333333333333)</td>\n",
       "    </tr>\n",
       "    <tr>\n",
       "      <th>1</th>\n",
       "      <td>1</td>\n",
       "      <td>personal</td>\n",
       "      <td>1830001</td>\n",
       "      <td>7.0</td>\n",
       "      <td>/z/lancelcy/R21/mfbs/1.npy</td>\n",
       "      <td>{8|5|5|7|6|7}</td>\n",
       "      <td>{5|6|6|6|5|6}</td>\n",
       "      <td>1</td>\n",
       "      <td>2</td>\n",
       "      <td>2</td>\n",
       "      <td>(0.0, 0.3333333333333333, 0.6666666666666666)</td>\n",
       "    </tr>\n",
       "    <tr>\n",
       "      <th>2</th>\n",
       "      <td>2</td>\n",
       "      <td>personal</td>\n",
       "      <td>1830001</td>\n",
       "      <td>3.0</td>\n",
       "      <td>/z/lancelcy/R21/mfbs/2.npy</td>\n",
       "      <td>{3|5|6|6|4}</td>\n",
       "      <td>{7|6|6|6|5}</td>\n",
       "      <td>2</td>\n",
       "      <td>2</td>\n",
       "      <td>0</td>\n",
       "      <td>(0.4, 0.2, 0.4)</td>\n",
       "    </tr>\n",
       "    <tr>\n",
       "      <th>3</th>\n",
       "      <td>3</td>\n",
       "      <td>personal</td>\n",
       "      <td>1830001</td>\n",
       "      <td>9.0</td>\n",
       "      <td>/z/lancelcy/R21/mfbs/11.npy</td>\n",
       "      <td>{7|5|6|6|6|4}</td>\n",
       "      <td>{6|6|6|7|5|6}</td>\n",
       "      <td>11</td>\n",
       "      <td>2</td>\n",
       "      <td>2</td>\n",
       "      <td>(0.16666666666666666, 0.16666666666666666, 0.6...</td>\n",
       "    </tr>\n",
       "    <tr>\n",
       "      <th>4</th>\n",
       "      <td>4</td>\n",
       "      <td>personal</td>\n",
       "      <td>1830001</td>\n",
       "      <td>6.0</td>\n",
       "      <td>/z/lancelcy/R21/mfbs/12.npy</td>\n",
       "      <td>{5|5|7|6|7}</td>\n",
       "      <td>{6|5|5|4|5}</td>\n",
       "      <td>12</td>\n",
       "      <td>1</td>\n",
       "      <td>2</td>\n",
       "      <td>(0.0, 0.4, 0.6)</td>\n",
       "    </tr>\n",
       "    <tr>\n",
       "      <th>...</th>\n",
       "      <td>...</td>\n",
       "      <td>...</td>\n",
       "      <td>...</td>\n",
       "      <td>...</td>\n",
       "      <td>...</td>\n",
       "      <td>...</td>\n",
       "      <td>...</td>\n",
       "      <td>...</td>\n",
       "      <td>...</td>\n",
       "      <td>...</td>\n",
       "      <td>...</td>\n",
       "    </tr>\n",
       "    <tr>\n",
       "      <th>4031</th>\n",
       "      <td>4031</td>\n",
       "      <td>personal</td>\n",
       "      <td>5998001</td>\n",
       "      <td>6.0</td>\n",
       "      <td>/z/lancelcy/R21/mfbs/7391.npy</td>\n",
       "      <td>{7|7|7|7}</td>\n",
       "      <td>{6|7|7|6}</td>\n",
       "      <td>7391</td>\n",
       "      <td>2</td>\n",
       "      <td>2</td>\n",
       "      <td>(0.0, 0.0, 1.0)</td>\n",
       "    </tr>\n",
       "    <tr>\n",
       "      <th>4032</th>\n",
       "      <td>4032</td>\n",
       "      <td>personal</td>\n",
       "      <td>5998001</td>\n",
       "      <td>6.0</td>\n",
       "      <td>/z/lancelcy/R21/mfbs/7392.npy</td>\n",
       "      <td>{6|6|7|7}</td>\n",
       "      <td>{6|7|4|4}</td>\n",
       "      <td>7392</td>\n",
       "      <td>0</td>\n",
       "      <td>2</td>\n",
       "      <td>(0.0, 0.0, 1.0)</td>\n",
       "    </tr>\n",
       "    <tr>\n",
       "      <th>4033</th>\n",
       "      <td>4033</td>\n",
       "      <td>personal</td>\n",
       "      <td>5998001</td>\n",
       "      <td>4.0</td>\n",
       "      <td>/z/lancelcy/R21/mfbs/7393.npy</td>\n",
       "      <td>{6|7|7|6}</td>\n",
       "      <td>{5|6|6|6}</td>\n",
       "      <td>7393</td>\n",
       "      <td>2</td>\n",
       "      <td>2</td>\n",
       "      <td>(0.0, 0.0, 1.0)</td>\n",
       "    </tr>\n",
       "    <tr>\n",
       "      <th>4034</th>\n",
       "      <td>4034</td>\n",
       "      <td>personal</td>\n",
       "      <td>5998001</td>\n",
       "      <td>4.0</td>\n",
       "      <td>/z/lancelcy/R21/mfbs/7394.npy</td>\n",
       "      <td>{6|7|7|7}</td>\n",
       "      <td>{6|6|6|6}</td>\n",
       "      <td>7394</td>\n",
       "      <td>2</td>\n",
       "      <td>2</td>\n",
       "      <td>(0.0, 0.0, 1.0)</td>\n",
       "    </tr>\n",
       "    <tr>\n",
       "      <th>4035</th>\n",
       "      <td>4035</td>\n",
       "      <td>personal</td>\n",
       "      <td>5998001</td>\n",
       "      <td>12.0</td>\n",
       "      <td>/z/lancelcy/R21/mfbs/7395.npy</td>\n",
       "      <td>{6|6|7|7}</td>\n",
       "      <td>{4|4|5|4}</td>\n",
       "      <td>7395</td>\n",
       "      <td>0</td>\n",
       "      <td>2</td>\n",
       "      <td>(0.0, 0.0, 1.0)</td>\n",
       "    </tr>\n",
       "  </tbody>\n",
       "</table>\n",
       "<p>4036 rows × 11 columns</p>\n",
       "</div>"
      ],
      "text/plain": [
       "      Unnamed: 0       exp   sub_id  segment_seconds  \\\n",
       "0              0  personal  1830001              4.0   \n",
       "1              1  personal  1830001              7.0   \n",
       "2              2  personal  1830001              3.0   \n",
       "3              3  personal  1830001              9.0   \n",
       "4              4  personal  1830001              6.0   \n",
       "...          ...       ...      ...              ...   \n",
       "4031        4031  personal  5998001              6.0   \n",
       "4032        4032  personal  5998001              6.0   \n",
       "4033        4033  personal  5998001              4.0   \n",
       "4034        4034  personal  5998001              4.0   \n",
       "4035        4035  personal  5998001             12.0   \n",
       "\n",
       "                               path activation_arr    valence_arr  segment_id  \\\n",
       "0        /z/lancelcy/R21/mfbs/0.npy  {5|4|5|7|5|6}  {4|5|5|6|5|7}           0   \n",
       "1        /z/lancelcy/R21/mfbs/1.npy  {8|5|5|7|6|7}  {5|6|6|6|5|6}           1   \n",
       "2        /z/lancelcy/R21/mfbs/2.npy    {3|5|6|6|4}    {7|6|6|6|5}           2   \n",
       "3       /z/lancelcy/R21/mfbs/11.npy  {7|5|6|6|6|4}  {6|6|6|7|5|6}          11   \n",
       "4       /z/lancelcy/R21/mfbs/12.npy    {5|5|7|6|7}    {6|5|5|4|5}          12   \n",
       "...                             ...            ...            ...         ...   \n",
       "4031  /z/lancelcy/R21/mfbs/7391.npy      {7|7|7|7}      {6|7|7|6}        7391   \n",
       "4032  /z/lancelcy/R21/mfbs/7392.npy      {6|6|7|7}      {6|7|4|4}        7392   \n",
       "4033  /z/lancelcy/R21/mfbs/7393.npy      {6|7|7|6}      {5|6|6|6}        7393   \n",
       "4034  /z/lancelcy/R21/mfbs/7394.npy      {6|7|7|7}      {6|6|6|6}        7394   \n",
       "4035  /z/lancelcy/R21/mfbs/7395.npy      {6|6|7|7}      {4|4|5|4}        7395   \n",
       "\n",
       "      valence  arousal                                            emotion  \n",
       "0           1        1     (0.16666666666666666, 0.5, 0.3333333333333333)  \n",
       "1           2        2      (0.0, 0.3333333333333333, 0.6666666666666666)  \n",
       "2           2        0                                    (0.4, 0.2, 0.4)  \n",
       "3           2        2  (0.16666666666666666, 0.16666666666666666, 0.6...  \n",
       "4           1        2                                    (0.0, 0.4, 0.6)  \n",
       "...       ...      ...                                                ...  \n",
       "4031        2        2                                    (0.0, 0.0, 1.0)  \n",
       "4032        0        2                                    (0.0, 0.0, 1.0)  \n",
       "4033        2        2                                    (0.0, 0.0, 1.0)  \n",
       "4034        2        2                                    (0.0, 0.0, 1.0)  \n",
       "4035        0        2                                    (0.0, 0.0, 1.0)  \n",
       "\n",
       "[4036 rows x 11 columns]"
      ]
     },
     "execution_count": 35,
     "metadata": {},
     "output_type": "execute_result"
    }
   ],
   "source": [
    "df_R21"
   ]
  },
  {
   "cell_type": "code",
   "execution_count": 182,
   "id": "9780bcae-c86a-43e8-9420-8b066b4e13e2",
   "metadata": {},
   "outputs": [
    {
     "name": "stderr",
     "output_type": "stream",
     "text": [
      "/home/lancelcy/env/lib/python3.6/site-packages/ipykernel_launcher.py:3: SettingWithCopyWarning: \n",
      "A value is trying to be set on a copy of a slice from a DataFrame.\n",
      "Try using .loc[row_indexer,col_indexer] = value instead\n",
      "\n",
      "See the caveats in the documentation: https://pandas.pydata.org/pandas-docs/stable/user_guide/indexing.html#returning-a-view-versus-a-copy\n",
      "  This is separate from the ipykernel package so we can avoid doing imports until\n"
     ]
    }
   ],
   "source": [
    "# src=ex3[(ex3[\"dataset\"]==1) | (ex3[\"dataset\"]==0)]\n",
    "v1=df_V1[[\"new_path\",\"emotion\"]]\n",
    "v1[\"validation\"]=df_V1[\"trial1\"]\n",
    "v1=v1.rename({'new_path': 'features'}, axis=1)"
   ]
  },
  {
   "cell_type": "code",
   "execution_count": 177,
   "id": "43ba7d7e-8170-461e-9a7c-9fce89a62fbb",
   "metadata": {},
   "outputs": [
    {
     "data": {
      "text/html": [
       "<div>\n",
       "<style scoped>\n",
       "    .dataframe tbody tr th:only-of-type {\n",
       "        vertical-align: middle;\n",
       "    }\n",
       "\n",
       "    .dataframe tbody tr th {\n",
       "        vertical-align: top;\n",
       "    }\n",
       "\n",
       "    .dataframe thead th {\n",
       "        text-align: right;\n",
       "    }\n",
       "</style>\n",
       "<table border=\"1\" class=\"dataframe\">\n",
       "  <thead>\n",
       "    <tr style=\"text-align: right;\">\n",
       "      <th></th>\n",
       "      <th>new_path</th>\n",
       "      <th>emotion</th>\n",
       "      <th>validation</th>\n",
       "    </tr>\n",
       "  </thead>\n",
       "  <tbody>\n",
       "    <tr>\n",
       "      <th>0</th>\n",
       "      <td>/z/lancelcy/PRIORI_Emotion/pad_mfbs/49157.npy</td>\n",
       "      <td>1.0;0.0;0.0</td>\n",
       "      <td>0</td>\n",
       "    </tr>\n",
       "    <tr>\n",
       "      <th>1</th>\n",
       "      <td>/z/lancelcy/PRIORI_Emotion/pad_mfbs/49158.npy</td>\n",
       "      <td>0.8;0.2;0.0</td>\n",
       "      <td>0</td>\n",
       "    </tr>\n",
       "    <tr>\n",
       "      <th>2</th>\n",
       "      <td>/z/lancelcy/PRIORI_Emotion/pad_mfbs/49161.npy</td>\n",
       "      <td>0.2;0.8;0.0</td>\n",
       "      <td>0</td>\n",
       "    </tr>\n",
       "    <tr>\n",
       "      <th>3</th>\n",
       "      <td>/z/lancelcy/PRIORI_Emotion/pad_mfbs/49164.npy</td>\n",
       "      <td>0.8;0.2;0.0</td>\n",
       "      <td>0</td>\n",
       "    </tr>\n",
       "    <tr>\n",
       "      <th>4</th>\n",
       "      <td>/z/lancelcy/PRIORI_Emotion/pad_mfbs/49167.npy</td>\n",
       "      <td>0.8;0.2;0.0</td>\n",
       "      <td>0</td>\n",
       "    </tr>\n",
       "    <tr>\n",
       "      <th>...</th>\n",
       "      <td>...</td>\n",
       "      <td>...</td>\n",
       "      <td>...</td>\n",
       "    </tr>\n",
       "    <tr>\n",
       "      <th>13817</th>\n",
       "      <td>/z/lancelcy/PRIORI_Emotion/pad_mfbs/649179.npy</td>\n",
       "      <td>0.4;0.6;0.0</td>\n",
       "      <td>0</td>\n",
       "    </tr>\n",
       "    <tr>\n",
       "      <th>13818</th>\n",
       "      <td>/z/lancelcy/PRIORI_Emotion/pad_mfbs/649239.npy</td>\n",
       "      <td>0.0;1.0;0.0</td>\n",
       "      <td>0</td>\n",
       "    </tr>\n",
       "    <tr>\n",
       "      <th>13819</th>\n",
       "      <td>/z/lancelcy/PRIORI_Emotion/pad_mfbs/649255.npy</td>\n",
       "      <td>0.0;0.4;0.6</td>\n",
       "      <td>0</td>\n",
       "    </tr>\n",
       "    <tr>\n",
       "      <th>13820</th>\n",
       "      <td>/z/lancelcy/PRIORI_Emotion/pad_mfbs/649318.npy</td>\n",
       "      <td>0.0;0.6;0.4</td>\n",
       "      <td>0</td>\n",
       "    </tr>\n",
       "    <tr>\n",
       "      <th>13821</th>\n",
       "      <td>/z/lancelcy/PRIORI_Emotion/pad_mfbs/649333.npy</td>\n",
       "      <td>0.0;0.8;0.2</td>\n",
       "      <td>0</td>\n",
       "    </tr>\n",
       "  </tbody>\n",
       "</table>\n",
       "<p>11722 rows × 3 columns</p>\n",
       "</div>"
      ],
      "text/plain": [
       "                                             new_path      emotion  validation\n",
       "0       /z/lancelcy/PRIORI_Emotion/pad_mfbs/49157.npy  1.0;0.0;0.0           0\n",
       "1       /z/lancelcy/PRIORI_Emotion/pad_mfbs/49158.npy  0.8;0.2;0.0           0\n",
       "2       /z/lancelcy/PRIORI_Emotion/pad_mfbs/49161.npy  0.2;0.8;0.0           0\n",
       "3       /z/lancelcy/PRIORI_Emotion/pad_mfbs/49164.npy  0.8;0.2;0.0           0\n",
       "4       /z/lancelcy/PRIORI_Emotion/pad_mfbs/49167.npy  0.8;0.2;0.0           0\n",
       "...                                               ...          ...         ...\n",
       "13817  /z/lancelcy/PRIORI_Emotion/pad_mfbs/649179.npy  0.4;0.6;0.0           0\n",
       "13818  /z/lancelcy/PRIORI_Emotion/pad_mfbs/649239.npy  0.0;1.0;0.0           0\n",
       "13819  /z/lancelcy/PRIORI_Emotion/pad_mfbs/649255.npy  0.0;0.4;0.6           0\n",
       "13820  /z/lancelcy/PRIORI_Emotion/pad_mfbs/649318.npy  0.0;0.6;0.4           0\n",
       "13821  /z/lancelcy/PRIORI_Emotion/pad_mfbs/649333.npy  0.0;0.8;0.2           0\n",
       "\n",
       "[11722 rows x 3 columns]"
      ]
     },
     "execution_count": 177,
     "metadata": {},
     "output_type": "execute_result"
    }
   ],
   "source": [
    "v1[v1[\"validation\"]!=2]"
   ]
  },
  {
   "cell_type": "code",
   "execution_count": 37,
   "id": "e6861845-8bf9-4780-80f7-d6e226cd0675",
   "metadata": {},
   "outputs": [],
   "source": [
    "r21_test=df_R21[(df_R21[\"sub_id\"]!=2541001) & (df_R21[\"sub_id\"]!=1830001)][\"path\"]"
   ]
  },
  {
   "cell_type": "code",
   "execution_count": null,
   "id": "2dcd32d1-a3cf-48d7-b734-757e11a554ba",
   "metadata": {},
   "outputs": [],
   "source": []
  },
  {
   "cell_type": "code",
   "execution_count": 81,
   "id": "edd9bdfb-1b0d-479f-8a3e-bda839523392",
   "metadata": {},
   "outputs": [
    {
     "data": {
      "text/plain": [
       "'/z/lancelcy/R21/mfbs/1619.npy'"
      ]
     },
     "execution_count": 81,
     "metadata": {},
     "output_type": "execute_result"
    }
   ],
   "source": [
    "r21_test.iloc[0]"
   ]
  },
  {
   "cell_type": "code",
   "execution_count": 100,
   "id": "9274a0f2-03a4-4d88-9b83-06d04043cdc8",
   "metadata": {},
   "outputs": [
    {
     "data": {
      "text/plain": [
       "1.6675045"
      ]
     },
     "execution_count": 100,
     "metadata": {},
     "output_type": "execute_result"
    }
   ],
   "source": [
    "max([max(i) for i in np.load(r21_test.iloc[49])])"
   ]
  },
  {
   "cell_type": "code",
   "execution_count": 54,
   "id": "bc8ff3d9-69d1-4703-a536-ed20655f0e05",
   "metadata": {},
   "outputs": [],
   "source": [
    "r21_test.to_csv(\"./versions/R21_exp3.csv\",header=[\"features\"])"
   ]
  },
  {
   "cell_type": "code",
   "execution_count": 55,
   "id": "1091ac4e-5973-4ad2-bcdc-d8f434c2e8b5",
   "metadata": {},
   "outputs": [],
   "source": [
    "v1[v1[\"validation\"]==2][\"features\"].to_csv(\"./versions/V1_exp3.csv\",header=[\"features\"])"
   ]
  },
  {
   "cell_type": "code",
   "execution_count": 72,
   "id": "0f3c3dc1-ee42-4996-810d-54943b1c2784",
   "metadata": {},
   "outputs": [
    {
     "data": {
      "text/plain": [
       "0        /z/abwilf/maddog/data/orig/iemocap/mfbs/Ses01F...\n",
       "1        /z/abwilf/maddog/data/orig/iemocap/mfbs/Ses01F...\n",
       "2        /z/abwilf/maddog/data/orig/iemocap/mfbs/Ses01F...\n",
       "3        /z/abwilf/maddog/data/orig/iemocap/mfbs/Ses01F...\n",
       "4        /z/abwilf/maddog/data/orig/iemocap/mfbs/Ses01F...\n",
       "                               ...                        \n",
       "10034    /z/abwilf/maddog/data/orig/iemocap/mfbs/Ses05M...\n",
       "10035    /z/abwilf/maddog/data/orig/iemocap/mfbs/Ses05M...\n",
       "10036    /z/abwilf/maddog/data/orig/iemocap/mfbs/Ses05M...\n",
       "10037    /z/abwilf/maddog/data/orig/iemocap/mfbs/Ses05M...\n",
       "10038    /z/abwilf/maddog/data/orig/iemocap/mfbs/Ses05M...\n",
       "Name: features, Length: 10039, dtype: object"
      ]
     },
     "execution_count": 72,
     "metadata": {},
     "output_type": "execute_result"
    }
   ],
   "source": [
    "src[src[\"dataset\"]==0][\"features\"]"
   ]
  },
  {
   "cell_type": "code",
   "execution_count": 112,
   "id": "4093bf95-a1cd-4402-8db9-875b043411fc",
   "metadata": {},
   "outputs": [
    {
     "name": "stderr",
     "output_type": "stream",
     "text": [
      "/home/lancelcy/env/lib/python3.6/site-packages/ipykernel_launcher.py:1: SettingWithCopyWarning: \n",
      "A value is trying to be set on a copy of a slice from a DataFrame.\n",
      "Try using .loc[row_indexer,col_indexer] = value instead\n",
      "\n",
      "See the caveats in the documentation: https://pandas.pydata.org/pandas-docs/stable/user_guide/indexing.html#returning-a-view-versus-a-copy\n",
      "  \"\"\"Entry point for launching an IPython kernel.\n"
     ]
    }
   ],
   "source": [
    "src[\"features\"]=src[\"features\"].apply(lambda x: \"/z/lancelcy/data/\"+x[22:])"
   ]
  },
  {
   "cell_type": "code",
   "execution_count": 113,
   "id": "9c9d24c5-a90f-40ea-a72c-2a098c3d6818",
   "metadata": {},
   "outputs": [
    {
     "data": {
      "text/html": [
       "<div>\n",
       "<style scoped>\n",
       "    .dataframe tbody tr th:only-of-type {\n",
       "        vertical-align: middle;\n",
       "    }\n",
       "\n",
       "    .dataframe tbody tr th {\n",
       "        vertical-align: top;\n",
       "    }\n",
       "\n",
       "    .dataframe thead th {\n",
       "        text-align: right;\n",
       "    }\n",
       "</style>\n",
       "<table border=\"1\" class=\"dataframe\">\n",
       "  <thead>\n",
       "    <tr style=\"text-align: right;\">\n",
       "      <th></th>\n",
       "      <th>features</th>\n",
       "      <th>emotion</th>\n",
       "      <th>dataset</th>\n",
       "      <th>validation</th>\n",
       "    </tr>\n",
       "  </thead>\n",
       "  <tbody>\n",
       "    <tr>\n",
       "      <th>0</th>\n",
       "      <td>/z/lancelcy/PRIORI_Emotion/pad_mfbs/49157.npy</td>\n",
       "      <td>1.0;0.0;0.0</td>\n",
       "      <td>2</td>\n",
       "      <td>0</td>\n",
       "    </tr>\n",
       "    <tr>\n",
       "      <th>1</th>\n",
       "      <td>/z/lancelcy/PRIORI_Emotion/pad_mfbs/49158.npy</td>\n",
       "      <td>0.8;0.2;0.0</td>\n",
       "      <td>2</td>\n",
       "      <td>0</td>\n",
       "    </tr>\n",
       "    <tr>\n",
       "      <th>2</th>\n",
       "      <td>/z/lancelcy/PRIORI_Emotion/pad_mfbs/49161.npy</td>\n",
       "      <td>0.4;0.6;0.0</td>\n",
       "      <td>2</td>\n",
       "      <td>0</td>\n",
       "    </tr>\n",
       "    <tr>\n",
       "      <th>3</th>\n",
       "      <td>/z/lancelcy/PRIORI_Emotion/pad_mfbs/49164.npy</td>\n",
       "      <td>0.6;0.4;0.0</td>\n",
       "      <td>2</td>\n",
       "      <td>0</td>\n",
       "    </tr>\n",
       "    <tr>\n",
       "      <th>4</th>\n",
       "      <td>/z/lancelcy/PRIORI_Emotion/pad_mfbs/49167.npy</td>\n",
       "      <td>0.6;0.4;0.0</td>\n",
       "      <td>2</td>\n",
       "      <td>0</td>\n",
       "    </tr>\n",
       "    <tr>\n",
       "      <th>...</th>\n",
       "      <td>...</td>\n",
       "      <td>...</td>\n",
       "      <td>...</td>\n",
       "      <td>...</td>\n",
       "    </tr>\n",
       "    <tr>\n",
       "      <th>18472</th>\n",
       "      <td>/z/lancelcy/data/orig/msp/mfbs/MSP-IMPROV-S15S...</td>\n",
       "      <td>1.;0.;0</td>\n",
       "      <td>1</td>\n",
       "      <td>0</td>\n",
       "    </tr>\n",
       "    <tr>\n",
       "      <th>18473</th>\n",
       "      <td>/z/lancelcy/data/orig/msp/mfbs/MSP-IMPROV-S15S...</td>\n",
       "      <td>1.;0.;0</td>\n",
       "      <td>1</td>\n",
       "      <td>1</td>\n",
       "    </tr>\n",
       "    <tr>\n",
       "      <th>18474</th>\n",
       "      <td>/z/lancelcy/data/orig/msp/mfbs/MSP-IMPROV-S15S...</td>\n",
       "      <td>1.;0.;0</td>\n",
       "      <td>1</td>\n",
       "      <td>0</td>\n",
       "    </tr>\n",
       "    <tr>\n",
       "      <th>18475</th>\n",
       "      <td>/z/lancelcy/data/orig/msp/mfbs/MSP-IMPROV-S15S...</td>\n",
       "      <td>0.8;0.2;0.</td>\n",
       "      <td>1</td>\n",
       "      <td>1</td>\n",
       "    </tr>\n",
       "    <tr>\n",
       "      <th>18476</th>\n",
       "      <td>/z/lancelcy/data/orig/msp/mfbs/MSP-IMPROV-S15S...</td>\n",
       "      <td>0.88461538;0.11538462;0.</td>\n",
       "      <td>1</td>\n",
       "      <td>0</td>\n",
       "    </tr>\n",
       "  </tbody>\n",
       "</table>\n",
       "<p>30199 rows × 4 columns</p>\n",
       "</div>"
      ],
      "text/plain": [
       "                                                features  \\\n",
       "0          /z/lancelcy/PRIORI_Emotion/pad_mfbs/49157.npy   \n",
       "1          /z/lancelcy/PRIORI_Emotion/pad_mfbs/49158.npy   \n",
       "2          /z/lancelcy/PRIORI_Emotion/pad_mfbs/49161.npy   \n",
       "3          /z/lancelcy/PRIORI_Emotion/pad_mfbs/49164.npy   \n",
       "4          /z/lancelcy/PRIORI_Emotion/pad_mfbs/49167.npy   \n",
       "...                                                  ...   \n",
       "18472  /z/lancelcy/data/orig/msp/mfbs/MSP-IMPROV-S15S...   \n",
       "18473  /z/lancelcy/data/orig/msp/mfbs/MSP-IMPROV-S15S...   \n",
       "18474  /z/lancelcy/data/orig/msp/mfbs/MSP-IMPROV-S15S...   \n",
       "18475  /z/lancelcy/data/orig/msp/mfbs/MSP-IMPROV-S15S...   \n",
       "18476  /z/lancelcy/data/orig/msp/mfbs/MSP-IMPROV-S15S...   \n",
       "\n",
       "                        emotion  dataset  validation  \n",
       "0                   1.0;0.0;0.0        2           0  \n",
       "1                   0.8;0.2;0.0        2           0  \n",
       "2                   0.4;0.6;0.0        2           0  \n",
       "3                   0.6;0.4;0.0        2           0  \n",
       "4                   0.6;0.4;0.0        2           0  \n",
       "...                         ...      ...         ...  \n",
       "18472                   1.;0.;0        1           0  \n",
       "18473                   1.;0.;0        1           1  \n",
       "18474                   1.;0.;0        1           0  \n",
       "18475                0.8;0.2;0.        1           1  \n",
       "18476  0.88461538;0.11538462;0.        1           0  \n",
       "\n",
       "[30199 rows x 4 columns]"
      ]
     },
     "execution_count": 113,
     "metadata": {},
     "output_type": "execute_result"
    }
   ],
   "source": [
    "pd.concat([v1[v1[\"validation\"]!=2],src],axis=0)"
   ]
  },
  {
   "cell_type": "code",
   "execution_count": 114,
   "id": "61b64e30-f3ab-4b72-8b8f-a290d38faa5e",
   "metadata": {},
   "outputs": [],
   "source": [
    "pd.concat([v1[v1[\"validation\"]!=2],src],axis=0).to_csv(\"./versions/train3.csv\")"
   ]
  },
  {
   "cell_type": "code",
   "execution_count": 66,
   "id": "24edb055-05d5-4b22-8dc8-061411ba431e",
   "metadata": {},
   "outputs": [
    {
     "data": {
      "text/html": [
       "<div>\n",
       "<style scoped>\n",
       "    .dataframe tbody tr th:only-of-type {\n",
       "        vertical-align: middle;\n",
       "    }\n",
       "\n",
       "    .dataframe tbody tr th {\n",
       "        vertical-align: top;\n",
       "    }\n",
       "\n",
       "    .dataframe thead th {\n",
       "        text-align: right;\n",
       "    }\n",
       "</style>\n",
       "<table border=\"1\" class=\"dataframe\">\n",
       "  <thead>\n",
       "    <tr style=\"text-align: right;\">\n",
       "      <th></th>\n",
       "      <th>features</th>\n",
       "      <th>dataset</th>\n",
       "      <th>emotion</th>\n",
       "      <th>validation</th>\n",
       "    </tr>\n",
       "  </thead>\n",
       "  <tbody>\n",
       "    <tr>\n",
       "      <th>0</th>\n",
       "      <td>/z/abwilf/maddog/data/orig/iemocap/mfbs/Ses01F...</td>\n",
       "      <td>0</td>\n",
       "      <td>0.5;0.5;0.</td>\n",
       "      <td>0</td>\n",
       "    </tr>\n",
       "    <tr>\n",
       "      <th>1</th>\n",
       "      <td>/z/abwilf/maddog/data/orig/iemocap/mfbs/Ses01F...</td>\n",
       "      <td>0</td>\n",
       "      <td>0.5;0.5;0.</td>\n",
       "      <td>1</td>\n",
       "    </tr>\n",
       "    <tr>\n",
       "      <th>2</th>\n",
       "      <td>/z/abwilf/maddog/data/orig/iemocap/mfbs/Ses01F...</td>\n",
       "      <td>0</td>\n",
       "      <td>0.5;0.5;0.</td>\n",
       "      <td>0</td>\n",
       "    </tr>\n",
       "    <tr>\n",
       "      <th>3</th>\n",
       "      <td>/z/abwilf/maddog/data/orig/iemocap/mfbs/Ses01F...</td>\n",
       "      <td>0</td>\n",
       "      <td>0.5;0.5;0.</td>\n",
       "      <td>0</td>\n",
       "    </tr>\n",
       "    <tr>\n",
       "      <th>4</th>\n",
       "      <td>/z/abwilf/maddog/data/orig/iemocap/mfbs/Ses01F...</td>\n",
       "      <td>0</td>\n",
       "      <td>0.5;0.5;0.</td>\n",
       "      <td>1</td>\n",
       "    </tr>\n",
       "    <tr>\n",
       "      <th>...</th>\n",
       "      <td>...</td>\n",
       "      <td>...</td>\n",
       "      <td>...</td>\n",
       "      <td>...</td>\n",
       "    </tr>\n",
       "    <tr>\n",
       "      <th>18472</th>\n",
       "      <td>/z/abwilf/maddog/data/orig/msp/mfbs/MSP-IMPROV...</td>\n",
       "      <td>1</td>\n",
       "      <td>1.;0.;0</td>\n",
       "      <td>0</td>\n",
       "    </tr>\n",
       "    <tr>\n",
       "      <th>18473</th>\n",
       "      <td>/z/abwilf/maddog/data/orig/msp/mfbs/MSP-IMPROV...</td>\n",
       "      <td>1</td>\n",
       "      <td>1.;0.;0</td>\n",
       "      <td>1</td>\n",
       "    </tr>\n",
       "    <tr>\n",
       "      <th>18474</th>\n",
       "      <td>/z/abwilf/maddog/data/orig/msp/mfbs/MSP-IMPROV...</td>\n",
       "      <td>1</td>\n",
       "      <td>1.;0.;0</td>\n",
       "      <td>0</td>\n",
       "    </tr>\n",
       "    <tr>\n",
       "      <th>18475</th>\n",
       "      <td>/z/abwilf/maddog/data/orig/msp/mfbs/MSP-IMPROV...</td>\n",
       "      <td>1</td>\n",
       "      <td>0.8;0.2;0.</td>\n",
       "      <td>1</td>\n",
       "    </tr>\n",
       "    <tr>\n",
       "      <th>18476</th>\n",
       "      <td>/z/abwilf/maddog/data/orig/msp/mfbs/MSP-IMPROV...</td>\n",
       "      <td>1</td>\n",
       "      <td>0.88461538;0.11538462;0.</td>\n",
       "      <td>0</td>\n",
       "    </tr>\n",
       "  </tbody>\n",
       "</table>\n",
       "<p>18477 rows × 4 columns</p>\n",
       "</div>"
      ],
      "text/plain": [
       "                                                features  dataset  \\\n",
       "0      /z/abwilf/maddog/data/orig/iemocap/mfbs/Ses01F...        0   \n",
       "1      /z/abwilf/maddog/data/orig/iemocap/mfbs/Ses01F...        0   \n",
       "2      /z/abwilf/maddog/data/orig/iemocap/mfbs/Ses01F...        0   \n",
       "3      /z/abwilf/maddog/data/orig/iemocap/mfbs/Ses01F...        0   \n",
       "4      /z/abwilf/maddog/data/orig/iemocap/mfbs/Ses01F...        0   \n",
       "...                                                  ...      ...   \n",
       "18472  /z/abwilf/maddog/data/orig/msp/mfbs/MSP-IMPROV...        1   \n",
       "18473  /z/abwilf/maddog/data/orig/msp/mfbs/MSP-IMPROV...        1   \n",
       "18474  /z/abwilf/maddog/data/orig/msp/mfbs/MSP-IMPROV...        1   \n",
       "18475  /z/abwilf/maddog/data/orig/msp/mfbs/MSP-IMPROV...        1   \n",
       "18476  /z/abwilf/maddog/data/orig/msp/mfbs/MSP-IMPROV...        1   \n",
       "\n",
       "                        emotion  validation  \n",
       "0                    0.5;0.5;0.           0  \n",
       "1                    0.5;0.5;0.           1  \n",
       "2                    0.5;0.5;0.           0  \n",
       "3                    0.5;0.5;0.           0  \n",
       "4                    0.5;0.5;0.           1  \n",
       "...                         ...         ...  \n",
       "18472                   1.;0.;0           0  \n",
       "18473                   1.;0.;0           1  \n",
       "18474                   1.;0.;0           0  \n",
       "18475                0.8;0.2;0.           1  \n",
       "18476  0.88461538;0.11538462;0.           0  \n",
       "\n",
       "[18477 rows x 4 columns]"
      ]
     },
     "execution_count": 66,
     "metadata": {},
     "output_type": "execute_result"
    }
   ],
   "source": [
    "src"
   ]
  },
  {
   "cell_type": "code",
   "execution_count": 103,
   "id": "47d63631-dfe9-4f58-bca5-cb2fe249eb50",
   "metadata": {},
   "outputs": [
    {
     "ename": "FileNotFoundError",
     "evalue": "[Errno 2] No such file or directory: '/z/lancelcy/data/orig/embeddings_asr/priori/85415.npy'",
     "output_type": "error",
     "traceback": [
      "\u001b[0;31m---------------------------------------------------------------------------\u001b[0m",
      "\u001b[0;31mFileNotFoundError\u001b[0m                         Traceback (most recent call last)",
      "\u001b[0;32m<ipython-input-103-68a3db6d3811>\u001b[0m in \u001b[0;36m<module>\u001b[0;34m\u001b[0m\n\u001b[0;32m----> 1\u001b[0;31m \u001b[0mnp\u001b[0m\u001b[0;34m.\u001b[0m\u001b[0mload\u001b[0m\u001b[0;34m(\u001b[0m\u001b[0;34m\"/z/lancelcy/data/orig/embeddings_asr/priori/85415.npy\"\u001b[0m\u001b[0;34m)\u001b[0m\u001b[0;34m\u001b[0m\u001b[0;34m\u001b[0m\u001b[0m\n\u001b[0m",
      "\u001b[0;32m~/env/lib/python3.6/site-packages/numpy/lib/npyio.py\u001b[0m in \u001b[0;36mload\u001b[0;34m(file, mmap_mode, allow_pickle, fix_imports, encoding)\u001b[0m\n\u001b[1;32m    414\u001b[0m             \u001b[0mown_fid\u001b[0m \u001b[0;34m=\u001b[0m \u001b[0;32mFalse\u001b[0m\u001b[0;34m\u001b[0m\u001b[0;34m\u001b[0m\u001b[0m\n\u001b[1;32m    415\u001b[0m         \u001b[0;32melse\u001b[0m\u001b[0;34m:\u001b[0m\u001b[0;34m\u001b[0m\u001b[0;34m\u001b[0m\u001b[0m\n\u001b[0;32m--> 416\u001b[0;31m             \u001b[0mfid\u001b[0m \u001b[0;34m=\u001b[0m \u001b[0mstack\u001b[0m\u001b[0;34m.\u001b[0m\u001b[0menter_context\u001b[0m\u001b[0;34m(\u001b[0m\u001b[0mopen\u001b[0m\u001b[0;34m(\u001b[0m\u001b[0mos_fspath\u001b[0m\u001b[0;34m(\u001b[0m\u001b[0mfile\u001b[0m\u001b[0;34m)\u001b[0m\u001b[0;34m,\u001b[0m \u001b[0;34m\"rb\"\u001b[0m\u001b[0;34m)\u001b[0m\u001b[0;34m)\u001b[0m\u001b[0;34m\u001b[0m\u001b[0;34m\u001b[0m\u001b[0m\n\u001b[0m\u001b[1;32m    417\u001b[0m             \u001b[0mown_fid\u001b[0m \u001b[0;34m=\u001b[0m \u001b[0;32mTrue\u001b[0m\u001b[0;34m\u001b[0m\u001b[0;34m\u001b[0m\u001b[0m\n\u001b[1;32m    418\u001b[0m \u001b[0;34m\u001b[0m\u001b[0m\n",
      "\u001b[0;31mFileNotFoundError\u001b[0m: [Errno 2] No such file or directory: '/z/lancelcy/data/orig/embeddings_asr/priori/85415.npy'"
     ]
    }
   ],
   "source": [
    "np.load(\"/z/lancelcy/data/orig/embeddings_asr/priori/85415.npy\")"
   ]
  },
  {
   "cell_type": "code",
   "execution_count": 133,
   "id": "cdb5e691-2798-47b3-b787-c520775385d8",
   "metadata": {},
   "outputs": [
    {
     "data": {
      "text/plain": [
       "(40, 424)"
      ]
     },
     "execution_count": 133,
     "metadata": {},
     "output_type": "execute_result"
    }
   ],
   "source": [
    "np.load(src[\"features\"].iloc[40]).shape"
   ]
  },
  {
   "cell_type": "code",
   "execution_count": 132,
   "id": "f71d005b-433f-48a9-b3a3-d5c90d6ac43f",
   "metadata": {},
   "outputs": [
    {
     "data": {
      "text/plain": [
       "(40, 3000)"
      ]
     },
     "execution_count": 132,
     "metadata": {},
     "output_type": "execute_result"
    }
   ],
   "source": [
    "np.load(\"/z/lancelcy/PRIORI_Emotion/pad_mfbs/649179.npy\").shape"
   ]
  },
  {
   "cell_type": "code",
   "execution_count": 138,
   "id": "6a633abd-6b20-4e9f-87e9-f05b568c2138",
   "metadata": {},
   "outputs": [],
   "source": [
    "for p in pd.read_csv(\"./versions/train3.csv\")[\"features\"]:\n",
    "    np.save(p,np.load(p).T)"
   ]
  },
  {
   "cell_type": "code",
   "execution_count": 131,
   "id": "a8a7c481-7205-489a-92d2-f50fd1bd3ede",
   "metadata": {},
   "outputs": [
    {
     "data": {
      "text/plain": [
       "(40, 194)"
      ]
     },
     "execution_count": 131,
     "metadata": {},
     "output_type": "execute_result"
    }
   ],
   "source": [
    "np.load(\"/z/lancelcy/data/orig/iemocap/mfbs/Ses01F_impro01_F000.npy\").shape"
   ]
  },
  {
   "cell_type": "code",
   "execution_count": 143,
   "id": "ca1b1d64-f0ab-4c39-961f-f3900395cd75",
   "metadata": {},
   "outputs": [
    {
     "data": {
      "text/plain": [
       "816     1\n",
       "817     0\n",
       "818     1\n",
       "819     1\n",
       "820     1\n",
       "       ..\n",
       "4031    2\n",
       "4032    0\n",
       "4033    2\n",
       "4034    2\n",
       "4035    0\n",
       "Name: valence, Length: 3030, dtype: int64"
      ]
     },
     "execution_count": 143,
     "metadata": {},
     "output_type": "execute_result"
    }
   ],
   "source": [
    "df_R21[(df_R21[\"sub_id\"]!=2541001) & (df_R21[\"sub_id\"]!=1830001)][\"valence\"]"
   ]
  },
  {
   "cell_type": "code",
   "execution_count": 183,
   "id": "4d58932a-79bd-4b4a-bf27-f82017b9980f",
   "metadata": {},
   "outputs": [],
   "source": [
    "exp1=v1[v1[\"validation\"]!=2]"
   ]
  },
  {
   "cell_type": "code",
   "execution_count": 185,
   "id": "b46ee18f-60f6-465a-85fc-8257b651aa60",
   "metadata": {},
   "outputs": [
    {
     "name": "stderr",
     "output_type": "stream",
     "text": [
      "/home/lancelcy/env/lib/python3.6/site-packages/ipykernel_launcher.py:1: SettingWithCopyWarning: \n",
      "A value is trying to be set on a copy of a slice from a DataFrame.\n",
      "Try using .loc[row_indexer,col_indexer] = value instead\n",
      "\n",
      "See the caveats in the documentation: https://pandas.pydata.org/pandas-docs/stable/user_guide/indexing.html#returning-a-view-versus-a-copy\n",
      "  \"\"\"Entry point for launching an IPython kernel.\n"
     ]
    }
   ],
   "source": [
    "exp1[\"dataset\"]=0"
   ]
  },
  {
   "cell_type": "code",
   "execution_count": 186,
   "id": "a49f2318-2055-4f6b-84ec-bc304b13724f",
   "metadata": {},
   "outputs": [],
   "source": [
    "exp1.to_csv(\"./versions/train1.csv\")"
   ]
  },
  {
   "cell_type": "code",
   "execution_count": 184,
   "id": "0424d7e7-8873-466d-9599-0f8d237f422b",
   "metadata": {},
   "outputs": [
    {
     "data": {
      "text/html": [
       "<div>\n",
       "<style scoped>\n",
       "    .dataframe tbody tr th:only-of-type {\n",
       "        vertical-align: middle;\n",
       "    }\n",
       "\n",
       "    .dataframe tbody tr th {\n",
       "        vertical-align: top;\n",
       "    }\n",
       "\n",
       "    .dataframe thead th {\n",
       "        text-align: right;\n",
       "    }\n",
       "</style>\n",
       "<table border=\"1\" class=\"dataframe\">\n",
       "  <thead>\n",
       "    <tr style=\"text-align: right;\">\n",
       "      <th></th>\n",
       "      <th>features</th>\n",
       "      <th>emotion</th>\n",
       "      <th>validation</th>\n",
       "    </tr>\n",
       "  </thead>\n",
       "  <tbody>\n",
       "    <tr>\n",
       "      <th>0</th>\n",
       "      <td>/z/lancelcy/PRIORI_Emotion/pad_mfbs/49157.npy</td>\n",
       "      <td>1.0;0.0;0.0</td>\n",
       "      <td>0</td>\n",
       "    </tr>\n",
       "    <tr>\n",
       "      <th>1</th>\n",
       "      <td>/z/lancelcy/PRIORI_Emotion/pad_mfbs/49158.npy</td>\n",
       "      <td>0.8;0.2;0.0</td>\n",
       "      <td>0</td>\n",
       "    </tr>\n",
       "    <tr>\n",
       "      <th>2</th>\n",
       "      <td>/z/lancelcy/PRIORI_Emotion/pad_mfbs/49161.npy</td>\n",
       "      <td>0.2;0.8;0.0</td>\n",
       "      <td>0</td>\n",
       "    </tr>\n",
       "    <tr>\n",
       "      <th>3</th>\n",
       "      <td>/z/lancelcy/PRIORI_Emotion/pad_mfbs/49164.npy</td>\n",
       "      <td>0.8;0.2;0.0</td>\n",
       "      <td>0</td>\n",
       "    </tr>\n",
       "    <tr>\n",
       "      <th>4</th>\n",
       "      <td>/z/lancelcy/PRIORI_Emotion/pad_mfbs/49167.npy</td>\n",
       "      <td>0.8;0.2;0.0</td>\n",
       "      <td>0</td>\n",
       "    </tr>\n",
       "    <tr>\n",
       "      <th>...</th>\n",
       "      <td>...</td>\n",
       "      <td>...</td>\n",
       "      <td>...</td>\n",
       "    </tr>\n",
       "    <tr>\n",
       "      <th>13817</th>\n",
       "      <td>/z/lancelcy/PRIORI_Emotion/pad_mfbs/649179.npy</td>\n",
       "      <td>0.4;0.6;0.0</td>\n",
       "      <td>0</td>\n",
       "    </tr>\n",
       "    <tr>\n",
       "      <th>13818</th>\n",
       "      <td>/z/lancelcy/PRIORI_Emotion/pad_mfbs/649239.npy</td>\n",
       "      <td>0.0;1.0;0.0</td>\n",
       "      <td>0</td>\n",
       "    </tr>\n",
       "    <tr>\n",
       "      <th>13819</th>\n",
       "      <td>/z/lancelcy/PRIORI_Emotion/pad_mfbs/649255.npy</td>\n",
       "      <td>0.0;0.4;0.6</td>\n",
       "      <td>0</td>\n",
       "    </tr>\n",
       "    <tr>\n",
       "      <th>13820</th>\n",
       "      <td>/z/lancelcy/PRIORI_Emotion/pad_mfbs/649318.npy</td>\n",
       "      <td>0.0;0.6;0.4</td>\n",
       "      <td>0</td>\n",
       "    </tr>\n",
       "    <tr>\n",
       "      <th>13821</th>\n",
       "      <td>/z/lancelcy/PRIORI_Emotion/pad_mfbs/649333.npy</td>\n",
       "      <td>0.0;0.8;0.2</td>\n",
       "      <td>0</td>\n",
       "    </tr>\n",
       "  </tbody>\n",
       "</table>\n",
       "<p>11722 rows × 3 columns</p>\n",
       "</div>"
      ],
      "text/plain": [
       "                                             features      emotion  validation\n",
       "0       /z/lancelcy/PRIORI_Emotion/pad_mfbs/49157.npy  1.0;0.0;0.0           0\n",
       "1       /z/lancelcy/PRIORI_Emotion/pad_mfbs/49158.npy  0.8;0.2;0.0           0\n",
       "2       /z/lancelcy/PRIORI_Emotion/pad_mfbs/49161.npy  0.2;0.8;0.0           0\n",
       "3       /z/lancelcy/PRIORI_Emotion/pad_mfbs/49164.npy  0.8;0.2;0.0           0\n",
       "4       /z/lancelcy/PRIORI_Emotion/pad_mfbs/49167.npy  0.8;0.2;0.0           0\n",
       "...                                               ...          ...         ...\n",
       "13817  /z/lancelcy/PRIORI_Emotion/pad_mfbs/649179.npy  0.4;0.6;0.0           0\n",
       "13818  /z/lancelcy/PRIORI_Emotion/pad_mfbs/649239.npy  0.0;1.0;0.0           0\n",
       "13819  /z/lancelcy/PRIORI_Emotion/pad_mfbs/649255.npy  0.0;0.4;0.6           0\n",
       "13820  /z/lancelcy/PRIORI_Emotion/pad_mfbs/649318.npy  0.0;0.6;0.4           0\n",
       "13821  /z/lancelcy/PRIORI_Emotion/pad_mfbs/649333.npy  0.0;0.8;0.2           0\n",
       "\n",
       "[11722 rows x 3 columns]"
      ]
     },
     "execution_count": 184,
     "metadata": {},
     "output_type": "execute_result"
    }
   ],
   "source": [
    "exp1"
   ]
  },
  {
   "cell_type": "code",
   "execution_count": 153,
   "id": "6bddb1cd-f3e8-4bc9-b986-7102f5df02ae",
   "metadata": {},
   "outputs": [],
   "source": [
    "exp4=pd.read_csv(\"./versions/train2.csv\")\n",
    "exp4[\"dataset\"]=exp4[\"dataset\"]+2\n"
   ]
  },
  {
   "cell_type": "code",
   "execution_count": 162,
   "id": "aafcfd45-0de1-4f54-afa4-27950bc498e7",
   "metadata": {},
   "outputs": [],
   "source": [
    "exp4 = exp4.iloc[: , 1:]"
   ]
  },
  {
   "cell_type": "code",
   "execution_count": 203,
   "id": "fa497d39-cbc5-4880-b0e8-bfdf89f986a5",
   "metadata": {},
   "outputs": [],
   "source": [
    "exp4=exp4.drop(columns=\"valence\")"
   ]
  },
  {
   "cell_type": "code",
   "execution_count": 221,
   "id": "0a092c99-40b1-4521-9b31-c78a239eee21",
   "metadata": {},
   "outputs": [],
   "source": [
    "pd.concat([src,exp4]).reset_index().drop(columns=\"index\").to_csv(\"./versions/train5.csv\")"
   ]
  },
  {
   "cell_type": "code",
   "execution_count": 194,
   "id": "f3c2a0e9-9d5a-46a0-b443-b55e4a87c58e",
   "metadata": {},
   "outputs": [],
   "source": [
    "exp4[\"emotion\"]=pd.concat([df_V1[df_V1[\"trial1\"].apply(lambda x:x==0 or x==1)][\"emotion\"],df_R21[df_R21[\"sub_id\"].apply(lambda x:x==5883001 or x==5918001 or x==5935001)][\"emotion\"]]).reset_index()[\"emotion\"]\n"
   ]
  },
  {
   "cell_type": "code",
   "execution_count": 219,
   "id": "83e05cd8-2557-471e-ba05-5199bca6b4a3",
   "metadata": {},
   "outputs": [],
   "source": [
    "exp4.loc[exp4[\"dataset\"]==3,\"dataset\"]=2"
   ]
  },
  {
   "cell_type": "code",
   "execution_count": 220,
   "id": "2ba4e595-0f33-41bd-8892-bef2d093fee9",
   "metadata": {},
   "outputs": [
    {
     "data": {
      "text/html": [
       "<div>\n",
       "<style scoped>\n",
       "    .dataframe tbody tr th:only-of-type {\n",
       "        vertical-align: middle;\n",
       "    }\n",
       "\n",
       "    .dataframe tbody tr th {\n",
       "        vertical-align: top;\n",
       "    }\n",
       "\n",
       "    .dataframe thead th {\n",
       "        text-align: right;\n",
       "    }\n",
       "</style>\n",
       "<table border=\"1\" class=\"dataframe\">\n",
       "  <thead>\n",
       "    <tr style=\"text-align: right;\">\n",
       "      <th></th>\n",
       "      <th>features</th>\n",
       "      <th>dataset</th>\n",
       "      <th>emotion</th>\n",
       "      <th>validation</th>\n",
       "    </tr>\n",
       "  </thead>\n",
       "  <tbody>\n",
       "    <tr>\n",
       "      <th>0</th>\n",
       "      <td>/z/lancelcy/PRIORI_Emotion/mfbs/49157.npy</td>\n",
       "      <td>2</td>\n",
       "      <td>1.0;0.0;0.0</td>\n",
       "      <td>0</td>\n",
       "    </tr>\n",
       "    <tr>\n",
       "      <th>1</th>\n",
       "      <td>/z/lancelcy/PRIORI_Emotion/mfbs/49158.npy</td>\n",
       "      <td>2</td>\n",
       "      <td>0.8;0.2;0.0</td>\n",
       "      <td>0</td>\n",
       "    </tr>\n",
       "    <tr>\n",
       "      <th>2</th>\n",
       "      <td>/z/lancelcy/PRIORI_Emotion/mfbs/49161.npy</td>\n",
       "      <td>2</td>\n",
       "      <td>0.2;0.8;0.0</td>\n",
       "      <td>0</td>\n",
       "    </tr>\n",
       "    <tr>\n",
       "      <th>3</th>\n",
       "      <td>/z/lancelcy/PRIORI_Emotion/mfbs/49164.npy</td>\n",
       "      <td>2</td>\n",
       "      <td>0.8;0.2;0.0</td>\n",
       "      <td>0</td>\n",
       "    </tr>\n",
       "    <tr>\n",
       "      <th>4</th>\n",
       "      <td>/z/lancelcy/PRIORI_Emotion/mfbs/49167.npy</td>\n",
       "      <td>2</td>\n",
       "      <td>0.8;0.2;0.0</td>\n",
       "      <td>0</td>\n",
       "    </tr>\n",
       "    <tr>\n",
       "      <th>...</th>\n",
       "      <td>...</td>\n",
       "      <td>...</td>\n",
       "      <td>...</td>\n",
       "      <td>...</td>\n",
       "    </tr>\n",
       "    <tr>\n",
       "      <th>13197</th>\n",
       "      <td>/z/lancelcy/R21/mfbs/7272.npy</td>\n",
       "      <td>2</td>\n",
       "      <td>0.0;1.0;0.0</td>\n",
       "      <td>1</td>\n",
       "    </tr>\n",
       "    <tr>\n",
       "      <th>13198</th>\n",
       "      <td>/z/lancelcy/R21/mfbs/7273.npy</td>\n",
       "      <td>2</td>\n",
       "      <td>0.0;0.75;0.25</td>\n",
       "      <td>1</td>\n",
       "    </tr>\n",
       "    <tr>\n",
       "      <th>13199</th>\n",
       "      <td>/z/lancelcy/R21/mfbs/7274.npy</td>\n",
       "      <td>2</td>\n",
       "      <td>0.5;0.5;0.0</td>\n",
       "      <td>1</td>\n",
       "    </tr>\n",
       "    <tr>\n",
       "      <th>13200</th>\n",
       "      <td>/z/lancelcy/R21/mfbs/7280.npy</td>\n",
       "      <td>2</td>\n",
       "      <td>0.75;0.25;0.0</td>\n",
       "      <td>1</td>\n",
       "    </tr>\n",
       "    <tr>\n",
       "      <th>13201</th>\n",
       "      <td>/z/lancelcy/R21/mfbs/7282.npy</td>\n",
       "      <td>2</td>\n",
       "      <td>0.0;0.25;0.75</td>\n",
       "      <td>1</td>\n",
       "    </tr>\n",
       "  </tbody>\n",
       "</table>\n",
       "<p>13202 rows × 4 columns</p>\n",
       "</div>"
      ],
      "text/plain": [
       "                                        features  dataset        emotion  \\\n",
       "0      /z/lancelcy/PRIORI_Emotion/mfbs/49157.npy        2    1.0;0.0;0.0   \n",
       "1      /z/lancelcy/PRIORI_Emotion/mfbs/49158.npy        2    0.8;0.2;0.0   \n",
       "2      /z/lancelcy/PRIORI_Emotion/mfbs/49161.npy        2    0.2;0.8;0.0   \n",
       "3      /z/lancelcy/PRIORI_Emotion/mfbs/49164.npy        2    0.8;0.2;0.0   \n",
       "4      /z/lancelcy/PRIORI_Emotion/mfbs/49167.npy        2    0.8;0.2;0.0   \n",
       "...                                          ...      ...            ...   \n",
       "13197              /z/lancelcy/R21/mfbs/7272.npy        2    0.0;1.0;0.0   \n",
       "13198              /z/lancelcy/R21/mfbs/7273.npy        2  0.0;0.75;0.25   \n",
       "13199              /z/lancelcy/R21/mfbs/7274.npy        2    0.5;0.5;0.0   \n",
       "13200              /z/lancelcy/R21/mfbs/7280.npy        2  0.75;0.25;0.0   \n",
       "13201              /z/lancelcy/R21/mfbs/7282.npy        2  0.0;0.25;0.75   \n",
       "\n",
       "       validation  \n",
       "0               0  \n",
       "1               0  \n",
       "2               0  \n",
       "3               0  \n",
       "4               0  \n",
       "...           ...  \n",
       "13197           1  \n",
       "13198           1  \n",
       "13199           1  \n",
       "13200           1  \n",
       "13201           1  \n",
       "\n",
       "[13202 rows x 4 columns]"
      ]
     },
     "execution_count": 220,
     "metadata": {},
     "output_type": "execute_result"
    }
   ],
   "source": [
    "exp4"
   ]
  },
  {
   "cell_type": "code",
   "execution_count": 193,
   "id": "109a8417-fb71-454d-845d-ac8e3e005b4f",
   "metadata": {},
   "outputs": [
    {
     "data": {
      "text/html": [
       "<div>\n",
       "<style scoped>\n",
       "    .dataframe tbody tr th:only-of-type {\n",
       "        vertical-align: middle;\n",
       "    }\n",
       "\n",
       "    .dataframe tbody tr th {\n",
       "        vertical-align: top;\n",
       "    }\n",
       "\n",
       "    .dataframe thead th {\n",
       "        text-align: right;\n",
       "    }\n",
       "</style>\n",
       "<table border=\"1\" class=\"dataframe\">\n",
       "  <thead>\n",
       "    <tr style=\"text-align: right;\">\n",
       "      <th></th>\n",
       "      <th>index</th>\n",
       "      <th>emotion</th>\n",
       "    </tr>\n",
       "  </thead>\n",
       "  <tbody>\n",
       "    <tr>\n",
       "      <th>0</th>\n",
       "      <td>0</td>\n",
       "      <td>1.0;0.0;0.0</td>\n",
       "    </tr>\n",
       "    <tr>\n",
       "      <th>1</th>\n",
       "      <td>1</td>\n",
       "      <td>0.8;0.2;0.0</td>\n",
       "    </tr>\n",
       "    <tr>\n",
       "      <th>2</th>\n",
       "      <td>2</td>\n",
       "      <td>0.2;0.8;0.0</td>\n",
       "    </tr>\n",
       "    <tr>\n",
       "      <th>3</th>\n",
       "      <td>3</td>\n",
       "      <td>0.8;0.2;0.0</td>\n",
       "    </tr>\n",
       "    <tr>\n",
       "      <th>4</th>\n",
       "      <td>4</td>\n",
       "      <td>0.8;0.2;0.0</td>\n",
       "    </tr>\n",
       "    <tr>\n",
       "      <th>...</th>\n",
       "      <td>...</td>\n",
       "      <td>...</td>\n",
       "    </tr>\n",
       "    <tr>\n",
       "      <th>13197</th>\n",
       "      <td>3952</td>\n",
       "      <td>0.0;1.0;0.0</td>\n",
       "    </tr>\n",
       "    <tr>\n",
       "      <th>13198</th>\n",
       "      <td>3953</td>\n",
       "      <td>0.0;0.75;0.25</td>\n",
       "    </tr>\n",
       "    <tr>\n",
       "      <th>13199</th>\n",
       "      <td>3954</td>\n",
       "      <td>0.5;0.5;0.0</td>\n",
       "    </tr>\n",
       "    <tr>\n",
       "      <th>13200</th>\n",
       "      <td>3955</td>\n",
       "      <td>0.75;0.25;0.0</td>\n",
       "    </tr>\n",
       "    <tr>\n",
       "      <th>13201</th>\n",
       "      <td>3956</td>\n",
       "      <td>0.0;0.25;0.75</td>\n",
       "    </tr>\n",
       "  </tbody>\n",
       "</table>\n",
       "<p>13202 rows × 2 columns</p>\n",
       "</div>"
      ],
      "text/plain": [
       "       index        emotion\n",
       "0          0    1.0;0.0;0.0\n",
       "1          1    0.8;0.2;0.0\n",
       "2          2    0.2;0.8;0.0\n",
       "3          3    0.8;0.2;0.0\n",
       "4          4    0.8;0.2;0.0\n",
       "...      ...            ...\n",
       "13197   3952    0.0;1.0;0.0\n",
       "13198   3953  0.0;0.75;0.25\n",
       "13199   3954    0.5;0.5;0.0\n",
       "13200   3955  0.75;0.25;0.0\n",
       "13201   3956  0.0;0.25;0.75\n",
       "\n",
       "[13202 rows x 2 columns]"
      ]
     },
     "execution_count": 193,
     "metadata": {},
     "output_type": "execute_result"
    }
   ],
   "source": [
    "exp2_emotion=pd.concat([df_V1[df_V1[\"trial1\"].apply(lambda x:x==0 or x==1)][\"emotion\"],df_R21[df_R21[\"sub_id\"].apply(lambda x:x==5883001 or x==5918001 or x==5935001)][\"emotion\"]])\n",
    "exp2_emotion.reset_index()"
   ]
  },
  {
   "cell_type": "code",
   "execution_count": 187,
   "id": "66dc4c8f-4c9b-47dd-a0e1-78a40b0e8e5e",
   "metadata": {},
   "outputs": [
    {
     "data": {
      "text/plain": [
       "2477    0.0;0.75;0.25\n",
       "2478      0.0;1.0;0.0\n",
       "2479    0.25;0.75;0.0\n",
       "2480    0.0;0.75;0.25\n",
       "2481      0.0;1.0;0.0\n",
       "            ...      \n",
       "3952      0.0;1.0;0.0\n",
       "3953    0.0;0.75;0.25\n",
       "3954      0.5;0.5;0.0\n",
       "3955    0.75;0.25;0.0\n",
       "3956    0.0;0.25;0.75\n",
       "Name: emotion, Length: 1480, dtype: object"
      ]
     },
     "execution_count": 187,
     "metadata": {},
     "output_type": "execute_result"
    }
   ],
   "source": [
    "df_R21[df_R21[\"sub_id\"].apply(lambda x:x==5883001 or x==5918001 or x==5935001)][\"emotion\"]"
   ]
  },
  {
   "cell_type": "code",
   "execution_count": 212,
   "id": "2e855cc0-e84f-4563-949a-86ae56ab0042",
   "metadata": {},
   "outputs": [],
   "source": [
    "df_R21[df_R21[\"sub_id\"].apply(lambda x:x==2280001 or x==5819001 or x== 5865001 or x==5998001)][\"path\"].to_csv(\"./versions/R21_exp.csv\",header=[\"features\"])"
   ]
  },
  {
   "cell_type": "code",
   "execution_count": null,
   "id": "66f10508-9c98-4026-beff-a91a422cf85a",
   "metadata": {},
   "outputs": [],
   "source": []
  }
 ],
 "metadata": {
  "kernelspec": {
   "display_name": "Python 3",
   "language": "python",
   "name": "python3"
  },
  "language_info": {
   "codemirror_mode": {
    "name": "ipython",
    "version": 3
   },
   "file_extension": ".py",
   "mimetype": "text/x-python",
   "name": "python",
   "nbconvert_exporter": "python",
   "pygments_lexer": "ipython3",
   "version": "3.6.9"
  }
 },
 "nbformat": 4,
 "nbformat_minor": 5
}
